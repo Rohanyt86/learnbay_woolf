{
 "cells": [
  {
   "cell_type": "code",
   "execution_count": null,
   "id": "dce70486",
   "metadata": {},
   "outputs": [],
   "source": [
    "ECE -> Education Credential equivalent\n",
    "FIS -> Foundation for international service\n",
    "IQAS -> Qualification Assessment Service  -> for Canada \n",
    "\n",
    "1 ECTS = 25 hours\n",
    "to complete course want 2250"
   ]
  },
  {
   "cell_type": "markdown",
   "id": "1c3bbdcd",
   "metadata": {},
   "source": [
    "# Class_01 Introduction"
   ]
  },
  {
   "cell_type": "code",
   "execution_count": null,
   "id": "c2723fd5",
   "metadata": {},
   "outputs": [],
   "source": [
    "# Anaconda Distribution\n",
    "# Jupyter notebook\n",
    "# High Level and low level language\n",
    "# why python ?\n",
    "# Translator\n",
    "# compiler vs interpreter\n",
    "# How python program runs?"
   ]
  },
  {
   "cell_type": "markdown",
   "id": "ed3a4654",
   "metadata": {},
   "source": [
    "#### Shortcut-Keys in Anaconda"
   ]
  },
  {
   "cell_type": "code",
   "execution_count": null,
   "id": "9e7475d3",
   "metadata": {},
   "outputs": [],
   "source": [
    "1) Control + /   --> Hastag every line of code by selecting them\n",
    "2) To execute/run the cell   ---> Sift + enter or Contrl+enter\n",
    "3) To execute above cell   ---> Press \"a\" in command mode\n",
    "4) To execute below cell   ---> Press \"b\" in command mode\n",
    "5) multiple cell delete  ---> press \"x\" or press \"dd\"\n",
    "6) select multiple cell then delete  ---> press \"x\"\n",
    "7) To undo in operation --> press \"z\"\n",
    "8) convert code to markdown ---> press \"m\"\n",
    "9) convert markdown to code   --> press \"y\"\n",
    "10) shortcut key ---> press \"h\""
   ]
  },
  {
   "cell_type": "code",
   "execution_count": null,
   "id": "916e1582",
   "metadata": {},
   "outputs": [],
   "source": [
    "- Anaconda distribution is a package distribution platform\n",
    "- It provides many python libraries (package) under one umbrella"
   ]
  },
  {
   "cell_type": "markdown",
   "id": "22bb92e9",
   "metadata": {},
   "source": [
    "## Jupyter Notebook"
   ]
  },
  {
   "cell_type": "code",
   "execution_count": null,
   "id": "32a4567f",
   "metadata": {},
   "outputs": [],
   "source": [
    "# It is a browser based IDE\n",
    "# IDE - Integrated Development Environment\n",
    "# An IDE is an interface between the user and the system.\n",
    "# Python ide - Jupyter Notebook, Pycharm etc "
   ]
  },
  {
   "cell_type": "markdown",
   "id": "e5b3353c",
   "metadata": {},
   "source": [
    "### Edit mode\n",
    "\n",
    "- we allowed to write the code"
   ]
  },
  {
   "cell_type": "markdown",
   "id": "d96b293f",
   "metadata": {},
   "source": [
    "### Command Mode\n",
    "\n",
    "- We ar not allowed to write the code\n",
    "- from edit to command -> Press esc key\n",
    "- from command to edit -> Press enter"
   ]
  },
  {
   "cell_type": "markdown",
   "id": "645bb383",
   "metadata": {},
   "source": [
    "### Two types of cells\n",
    "\n",
    "- Input cell\n",
    "- output cell"
   ]
  },
  {
   "cell_type": "code",
   "execution_count": null,
   "id": "3ce012ff",
   "metadata": {},
   "outputs": [],
   "source": [
    "outside number is execution"
   ]
  },
  {
   "cell_type": "code",
   "execution_count": null,
   "id": "77079293",
   "metadata": {},
   "outputs": [],
   "source": [
    "#--> when we use print then we get the answer in console\n",
    "n = \"aname\"\n",
    "print(n)"
   ]
  },
  {
   "cell_type": "code",
   "execution_count": null,
   "id": "2f2ee3fa",
   "metadata": {},
   "outputs": [],
   "source": [
    "code editor - only pythone code is allowed \n",
    "text editor - Markdown (we can write code)"
   ]
  },
  {
   "cell_type": "markdown",
   "id": "639926bf",
   "metadata": {},
   "source": [
    "->  bold\n",
    "\n",
    "**Hii every one**\n",
    "\n",
    "-> Italic\n",
    "\n",
    "*hii evryone*\n",
    "\n",
    "-> Both bold and Italic\n",
    "\n",
    "##### hii not"
   ]
  },
  {
   "cell_type": "markdown",
   "id": "969172b7",
   "metadata": {},
   "source": [
    "## What is programming language / computer language"
   ]
  },
  {
   "cell_type": "markdown",
   "id": "2ec8653d",
   "metadata": {},
   "source": [
    "- The language we use to communicate with the computer.\n",
    "\n",
    "- A programming language is a set of some keywords  and charachter that are used according to some rules known as syntax."
   ]
  },
  {
   "cell_type": "markdown",
   "id": "96c6e6e0",
   "metadata": {},
   "source": [
    "## learn Programming language (Python)\n",
    "\n",
    "- 1) Keywords\n",
    "- 2) charachterset\n",
    "- 3) syntax"
   ]
  },
  {
   "cell_type": "markdown",
   "id": "01227dd8",
   "metadata": {},
   "source": [
    "A programming language is used to created a software.\n",
    "\n",
    "### Types of programming language\n",
    "\n",
    "- 1) High level language\n",
    "- 2) Low level language"
   ]
  },
  {
   "cell_type": "markdown",
   "id": "ef919ebe",
   "metadata": {},
   "source": [
    "#### High programming language\n",
    "\n",
    "- this can easily learn and understand\n",
    "- They are user friendly\n",
    "- The code is write in simple language in english\n",
    "##### Example :- Python, Java, R, C, PHP etc"
   ]
  },
  {
   "cell_type": "markdown",
   "id": "528d7542",
   "metadata": {},
   "source": [
    "#### Low level language\n",
    "\n",
    "- Therse are machine frendly language\n",
    "- The code can not be easily understood\n",
    "- The code is written in Binanry Digit (0,1)\n",
    "\n",
    "##### example - Machine language / Binary language"
   ]
  },
  {
   "cell_type": "markdown",
   "id": "5becea97",
   "metadata": {},
   "source": [
    "### Translator\n",
    "\n",
    "- It is software that converts a high level language code into machine language and vise versa"
   ]
  },
  {
   "cell_type": "markdown",
   "id": "40d32004",
   "metadata": {},
   "source": [
    "## Types of translator\n",
    "\n",
    "1) Compiler \n",
    "- it reads the whole source code first and then it converts machine code all together.\n",
    "\n",
    "2) Interpreter\n",
    "- It reads and convert the code line by line\n",
    "- It reads and convert one line at a time\n",
    "\n",
    "\n",
    "## compiled language\n",
    "\n",
    "-> the language that use compiler as their transalter are the complied language\n",
    "\n",
    "ex :- java\n",
    "\n",
    "## Interpreter language\n",
    "\n",
    "-> The language that use interpreter as theri translater are the interpreted language\n",
    "\n",
    "ex :- python"
   ]
  },
  {
   "cell_type": "code",
   "execution_count": null,
   "id": "2ee08096",
   "metadata": {},
   "outputs": [],
   "source": [
    "## byte code is intermediate code\n",
    "\n",
    "source code    ---  complier  --- byte code(intermediate code)  --- interpreter  --- Machine code"
   ]
  },
  {
   "cell_type": "markdown",
   "id": "952b425c",
   "metadata": {},
   "source": [
    "### Source code\n",
    "\n",
    "- The code that we write as a programmer is known as source code\n",
    "- the extension of python source code is \".py\""
   ]
  },
  {
   "cell_type": "markdown",
   "id": "4d089946",
   "metadata": {},
   "source": [
    "### Intermediate code(byte code)\n",
    "\n",
    "- Once we exceute a python source code then complier comes into picture.\n",
    "- It reads the whole source code and if no error is found then it converts into bytes.\n",
    "- If complier catches any error in the source code then it does not convert the source code into Bytecode.\n",
    "- In this case we dont get any output\n",
    "- The exetension is .pyc"
   ]
  },
  {
   "cell_type": "markdown",
   "id": "c0f84a91",
   "metadata": {},
   "source": [
    "### Machine code\n",
    "\n",
    "- Once the bytecode is generated then interpreter comes into picture.\n",
    "- It reads and convert sthe bytecode into machine codeline by line\n",
    "- It reads and convert one line at a time.\n",
    "- If it catches any error then it stops execution.\n",
    "- In this case we get partial output."
   ]
  },
  {
   "cell_type": "markdown",
   "id": "89b86f73",
   "metadata": {},
   "source": [
    "## Type of error\n",
    "- 1) Compiletime error\n",
    "- 2) Runtime error"
   ]
  },
  {
   "cell_type": "markdown",
   "id": "a1371c60",
   "metadata": {},
   "source": [
    "### Compiletime error\n",
    "- The error that occur at the time of compilation are known as compiletime errors.\n",
    "- Compiler is responsible to catch the compiletime error.\n",
    "\n",
    "Example :- Syntax error, Indentation Error"
   ]
  },
  {
   "cell_type": "code",
   "execution_count": null,
   "id": "b7c26322",
   "metadata": {},
   "outputs": [],
   "source": [
    "print(\"henry\")\n",
    "print(\"ji\")\n",
    "print('lo'\n",
    "print('hii')   ## byte code not generated in compiltime"
   ]
  },
  {
   "cell_type": "markdown",
   "id": "9dd4ef76",
   "metadata": {},
   "source": [
    "### Runtime error\n",
    "\n",
    "- The error that occurs at run time ( at the time of execution) are konown as Runtime Error\n",
    "- Interpreter is responsible to catch the runtime error\n",
    "\n",
    "example :- Name error, value error, Type error etc"
   ]
  },
  {
   "cell_type": "code",
   "execution_count": null,
   "id": "d47738b9",
   "metadata": {},
   "outputs": [],
   "source": [
    "print(\"henry\")\n",
    "print(\"ji\")\n",
    "a\n",
    "print('hii')   ## Name error starting two execute "
   ]
  },
  {
   "cell_type": "code",
   "execution_count": null,
   "id": "cd71c8e7",
   "metadata": {},
   "outputs": [],
   "source": [
    "## Asssemble - Assembler - Minemonies (not use intermediate code)"
   ]
  },
  {
   "cell_type": "markdown",
   "id": "ea4a8754",
   "metadata": {},
   "source": [
    "# Class_02 Introduction 2"
   ]
  },
  {
   "cell_type": "markdown",
   "id": "7182d1a9",
   "metadata": {},
   "source": [
    "### Why Python ? \n",
    "\n",
    "- It is easy to use\n",
    "- It has n number of libraries"
   ]
  },
  {
   "cell_type": "code",
   "execution_count": null,
   "id": "43701ebf",
   "metadata": {},
   "outputs": [],
   "source": [
    "# Advance Linear algrbraic operation\n",
    "# Advanced Statistical algorithm\n",
    "# Data Modelling"
   ]
  },
  {
   "cell_type": "code",
   "execution_count": null,
   "id": "5376328c",
   "metadata": {},
   "outputs": [],
   "source": [
    "Values :- Number (whole number, decimal number), text ,other"
   ]
  },
  {
   "cell_type": "markdown",
   "id": "c3eb6a20",
   "metadata": {},
   "source": [
    "### Types of Datatypes\n",
    "- 1) Basic Datatype\n",
    "- 2) derived Datatype"
   ]
  },
  {
   "cell_type": "markdown",
   "id": "76c7037f",
   "metadata": {},
   "source": [
    "#### Basic Datatypes"
   ]
  },
  {
   "cell_type": "markdown",
   "id": "74ef5b5a",
   "metadata": {},
   "source": [
    "#### 1) Integer"
   ]
  },
  {
   "cell_type": "code",
   "execution_count": null,
   "id": "c2f054af",
   "metadata": {},
   "outputs": [],
   "source": [
    "- The whole number either positive or negative\n",
    "- Any number either positive, negative or zero without a decimal point is an int value"
   ]
  },
  {
   "cell_type": "code",
   "execution_count": null,
   "id": "4c7a30ae",
   "metadata": {},
   "outputs": [],
   "source": [
    "a = 5\n",
    "print(a)"
   ]
  },
  {
   "cell_type": "code",
   "execution_count": null,
   "id": "24733d61",
   "metadata": {},
   "outputs": [],
   "source": [
    "a = -1\n",
    "print(a)\n",
    "print(type(a))"
   ]
  },
  {
   "cell_type": "markdown",
   "id": "6ef84c89",
   "metadata": {},
   "source": [
    "#### 2) float "
   ]
  },
  {
   "cell_type": "code",
   "execution_count": null,
   "id": "b026ec56",
   "metadata": {},
   "outputs": [],
   "source": [
    "## Any number wheather +ve, -ve or zero with a decimal is a float value`"
   ]
  },
  {
   "cell_type": "code",
   "execution_count": null,
   "id": "9b2e6495",
   "metadata": {},
   "outputs": [],
   "source": [
    "a = 5.5\n",
    "print(a)\n",
    "print(type(a))"
   ]
  },
  {
   "cell_type": "markdown",
   "id": "91a63f5e",
   "metadata": {},
   "source": [
    "#### 3) Complex "
   ]
  },
  {
   "cell_type": "code",
   "execution_count": null,
   "id": "f8776c39",
   "metadata": {},
   "outputs": [],
   "source": [
    "# - Any number in the form of obj is a complex value.\n",
    "# - Here is \"a\" is cinsidered to be real number and \"i\" is imaginary number.\n",
    "# - A complex number is used to represent a very big Float value. -->"
   ]
  },
  {
   "cell_type": "code",
   "execution_count": null,
   "id": "dc9145fb",
   "metadata": {},
   "outputs": [],
   "source": [
    "a = 2+5j\n",
    "print(a)\n",
    "print(type(a))"
   ]
  },
  {
   "cell_type": "code",
   "execution_count": null,
   "id": "2152dd56",
   "metadata": {},
   "outputs": [],
   "source": [
    "## abs() - It truns into the absoute value"
   ]
  },
  {
   "cell_type": "code",
   "execution_count": null,
   "id": "b31d1dc7",
   "metadata": {},
   "outputs": [],
   "source": [
    "print(abs(a))"
   ]
  },
  {
   "cell_type": "code",
   "execution_count": null,
   "id": "632b7114",
   "metadata": {},
   "outputs": [],
   "source": [
    "## Imaginary part\n",
    "\n",
    "print(a.imag)"
   ]
  },
  {
   "cell_type": "code",
   "execution_count": null,
   "id": "1069e8c3",
   "metadata": {},
   "outputs": [],
   "source": [
    "## real number\n",
    "\n",
    "print(a.real)"
   ]
  },
  {
   "cell_type": "code",
   "execution_count": null,
   "id": "cf752695",
   "metadata": {},
   "outputs": [],
   "source": [
    "a = 6j\n",
    "print(type(a))"
   ]
  },
  {
   "cell_type": "markdown",
   "id": "e0d007db",
   "metadata": {},
   "source": [
    "#### 4) String"
   ]
  },
  {
   "cell_type": "code",
   "execution_count": null,
   "id": "b235efb2",
   "metadata": {},
   "outputs": [],
   "source": [
    "# Anything inside this  '',\"\",'''''' is a string value"
   ]
  },
  {
   "cell_type": "code",
   "execution_count": null,
   "id": "e2d0b647",
   "metadata": {},
   "outputs": [],
   "source": [
    "a = 'absce'\n",
    "print(a)\n",
    "print(type(a))"
   ]
  },
  {
   "cell_type": "code",
   "execution_count": null,
   "id": "3d36136b",
   "metadata": {},
   "outputs": [],
   "source": [
    "b = '''My name is Rohan he wantes to play cricket but his mom dont want him to play but he requires to play\n",
    "       but his dad want him to play'''\n",
    "print(b)\n",
    "print(type(b))\n"
   ]
  },
  {
   "cell_type": "code",
   "execution_count": null,
   "id": "3e600edc",
   "metadata": {},
   "outputs": [],
   "source": [
    " a = \"\"\"hii esnt more\n",
    "    get be 'p\"\"\"\n",
    "print(a)"
   ]
  },
  {
   "cell_type": "markdown",
   "id": "6308beaf",
   "metadata": {},
   "source": [
    "#### 4) Boolean value"
   ]
  },
  {
   "cell_type": "code",
   "execution_count": null,
   "id": "234f4408",
   "metadata": {},
   "outputs": [],
   "source": [
    "True or False are the boolean value"
   ]
  },
  {
   "cell_type": "code",
   "execution_count": null,
   "id": "b2629677",
   "metadata": {},
   "outputs": [],
   "source": [
    "a = True\n",
    "print(a)\n",
    "print(type(a))"
   ]
  },
  {
   "cell_type": "markdown",
   "id": "8bded6eb",
   "metadata": {},
   "source": [
    "#### 5) Nontype\n",
    "- None is NoneType\n",
    "- None is used to represent the null values or missing values"
   ]
  },
  {
   "cell_type": "code",
   "execution_count": null,
   "id": "7dbf525c",
   "metadata": {},
   "outputs": [],
   "source": [
    "a = None\n",
    "print(type(a))"
   ]
  },
  {
   "cell_type": "markdown",
   "id": "51dedf9f",
   "metadata": {},
   "source": [
    "## Derived Datatypes"
   ]
  },
  {
   "cell_type": "markdown",
   "id": "14dd6d05",
   "metadata": {},
   "source": [
    "- These are the data structure that are used to store a multiple values ins aspecific manner"
   ]
  },
  {
   "cell_type": "code",
   "execution_count": null,
   "id": "e4dfaf6f",
   "metadata": {},
   "outputs": [],
   "source": [
    "a = 4\n",
    "a = 6\n",
    "print(a)"
   ]
  },
  {
   "cell_type": "code",
   "execution_count": null,
   "id": "46881b5b",
   "metadata": {},
   "outputs": [],
   "source": [
    "a,b,x,d = 4,5,8,9\n",
    "print(a,b,x,d)"
   ]
  },
  {
   "cell_type": "markdown",
   "id": "3713da37",
   "metadata": {},
   "source": [
    "### 1) LIST"
   ]
  },
  {
   "cell_type": "code",
   "execution_count": null,
   "id": "2023eb1b",
   "metadata": {},
   "outputs": [],
   "source": [
    "Anything which inside a Square bracket \"[]\"\n",
    "- A lsit may have multiple element, In each element is sperated by comma.\n",
    "- A list may have heterogenous(elements of different types) value."
   ]
  },
  {
   "cell_type": "code",
   "execution_count": null,
   "id": "cb2c198a",
   "metadata": {},
   "outputs": [],
   "source": [
    "a = [10,20,3,1]\n",
    "print(a)"
   ]
  },
  {
   "cell_type": "code",
   "execution_count": null,
   "id": "2156422b",
   "metadata": {},
   "outputs": [],
   "source": [
    "b = [\"hii\",10,2.5,2+5j]\n",
    "print(b)\n",
    "print(type(b))"
   ]
  },
  {
   "cell_type": "markdown",
   "id": "120cc66d",
   "metadata": {},
   "source": [
    "### 2) Tuple"
   ]
  },
  {
   "cell_type": "code",
   "execution_count": null,
   "id": "17de1a4c",
   "metadata": {},
   "outputs": [],
   "source": [
    "# Anything inside the \"()\" is tuple\n",
    "- A tuple may contain multiple element\n",
    "- In tuple each element is spearted by comma, it is also heterogenous."
   ]
  },
  {
   "cell_type": "code",
   "execution_count": null,
   "id": "4c078639",
   "metadata": {},
   "outputs": [],
   "source": [
    "a = (4,5,6,7)\n",
    "print(a)\n",
    "print(type(a))"
   ]
  },
  {
   "cell_type": "code",
   "execution_count": null,
   "id": "a40e6d1e",
   "metadata": {},
   "outputs": [],
   "source": [
    "b = (\"hii\",10,2.5,2+5j)\n",
    "print(b)\n",
    "print(type(b))"
   ]
  },
  {
   "cell_type": "markdown",
   "id": "42c7fcd9",
   "metadata": {},
   "source": [
    "### 3) Dictionary - dict"
   ]
  },
  {
   "cell_type": "code",
   "execution_count": null,
   "id": "b4b335e4",
   "metadata": {},
   "outputs": [],
   "source": [
    "# It is collection key and value pair -> key:value inside \"{}\"\n",
    "- Each key value pair separated by comma.\n"
   ]
  },
  {
   "cell_type": "code",
   "execution_count": null,
   "id": "233586c6",
   "metadata": {},
   "outputs": [],
   "source": [
    "a = {\"lo\":\"hi\",\"li\":[1,2]}\n",
    "print(a)\n",
    "print(type(a))\n",
    "print(a.keys)\n",
    "print(a.values)\n",
    "print(a.items)"
   ]
  },
  {
   "cell_type": "markdown",
   "id": "46c831e8",
   "metadata": {},
   "source": [
    "### 4) Set"
   ]
  },
  {
   "cell_type": "code",
   "execution_count": null,
   "id": "a53aece3",
   "metadata": {},
   "outputs": [],
   "source": [
    "# anything inside the \"{}\" is a set.\n",
    "- It doesnt contain duplicate value and each value is separated by comma,\n",
    "- A set return value in random"
   ]
  },
  {
   "cell_type": "code",
   "execution_count": null,
   "id": "5f2798e6",
   "metadata": {},
   "outputs": [],
   "source": [
    "l = {1,2,1,4,5}\n",
    "print(l)\n",
    "print(type(l))"
   ]
  },
  {
   "cell_type": "code",
   "execution_count": null,
   "id": "1cae6154",
   "metadata": {},
   "outputs": [],
   "source": [
    "## Hashable value :- int, float, complex, tuple, frozenset, string, boolean , none\n",
    "\n",
    "## unhashable value :- list , dict, set\n",
    "\n",
    "--> we cannot pass one in one means -> in list type we cant pass inside same list."
   ]
  },
  {
   "cell_type": "code",
   "execution_count": null,
   "id": "6250cbf5",
   "metadata": {},
   "outputs": [],
   "source": [
    "a = {'Aditya',\"Ganeshree\",\"suresh\",\"suresh\"}\n",
    "print(a,type(a))"
   ]
  },
  {
   "cell_type": "markdown",
   "id": "15abbd59",
   "metadata": {},
   "source": [
    "### 5) Frozenset"
   ]
  },
  {
   "cell_type": "code",
   "execution_count": null,
   "id": "5fa60944",
   "metadata": {},
   "outputs": [],
   "source": [
    "- When we pass an iterable inside the frozenset() then it returns the frozenset\n",
    "- The frozenset object contains a set of element\n",
    "- In a frozenset each element is separated by comma\n",
    "- it does not allow duplicate value, it always return unique values.\n",
    "- The iterable which we pass inside the frozenset "
   ]
  },
  {
   "cell_type": "code",
   "execution_count": null,
   "id": "76840040",
   "metadata": {},
   "outputs": [],
   "source": [
    "## Iterable :- which can be loop\n",
    "-> string, list, tuple, set, Dictionary, Frozenset, Range\n",
    "\n",
    "## non Iterable :- int, float, complex, bool, none "
   ]
  },
  {
   "cell_type": "code",
   "execution_count": null,
   "id": "111c0aa3",
   "metadata": {},
   "outputs": [],
   "source": [
    "a = \"12\"\n",
    "print(a)\n",
    "p = frozenset(a)\n",
    "print(p)"
   ]
  },
  {
   "cell_type": "code",
   "execution_count": null,
   "id": "f1866382",
   "metadata": {},
   "outputs": [],
   "source": [
    "l = {\"ko\",\"lo\",\"ki\"}\n",
    "print(l)\n",
    "f = frozenset(l)\n",
    "print(f)"
   ]
  },
  {
   "cell_type": "markdown",
   "id": "c84b9b55",
   "metadata": {},
   "source": [
    "### 6)Range"
   ]
  },
  {
   "cell_type": "code",
   "execution_count": null,
   "id": "155bb149",
   "metadata": {},
   "outputs": [],
   "source": [
    "->  range() :- it represent a range object.\n",
    "- It is used to create a sequence of integer number"
   ]
  },
  {
   "cell_type": "code",
   "execution_count": null,
   "id": "f77345a2",
   "metadata": {},
   "outputs": [],
   "source": [
    "## syntax\n",
    "- > range (start,stop, stepsize)\n",
    "- Stepsize is 1 by default\n",
    "\n",
    "## elaborate\n",
    "start -> starting value\n",
    "stop -> stop value and last value is excluded\n",
    "stepsize -> difference"
   ]
  },
  {
   "cell_type": "code",
   "execution_count": null,
   "id": "7861b379",
   "metadata": {},
   "outputs": [],
   "source": [
    "# range\n",
    "- 0 will be the default start\n",
    "- 1 will be the default step"
   ]
  },
  {
   "cell_type": "code",
   "execution_count": null,
   "id": "92f13fa6",
   "metadata": {},
   "outputs": [],
   "source": [
    "j = range(1,10,2)\n",
    "print(j, type(j))"
   ]
  },
  {
   "cell_type": "code",
   "execution_count": null,
   "id": "01be6fdf",
   "metadata": {},
   "outputs": [],
   "source": [
    "# to get range passsed in any datatype\n",
    "\n",
    "list(range(1,10,2))\n"
   ]
  },
  {
   "cell_type": "code",
   "execution_count": null,
   "id": "d3f9a587",
   "metadata": {},
   "outputs": [],
   "source": [
    "## create 5,4,3,2,1,-1,-2,-3,-4\n",
    "\n",
    "list(range(5,-5,-1))"
   ]
  },
  {
   "cell_type": "code",
   "execution_count": null,
   "id": "6792d4bd",
   "metadata": {},
   "outputs": [],
   "source": [
    "list(range(10,1,-2))"
   ]
  },
  {
   "cell_type": "markdown",
   "id": "93ceeb92",
   "metadata": {},
   "source": [
    "### Variable and constants or names and values"
   ]
  },
  {
   "cell_type": "code",
   "execution_count": null,
   "id": "18037988",
   "metadata": {},
   "outputs": [],
   "source": [
    "variable(name) :- It is container that contains a value.\n",
    "Constant(value) :- It is value that are variable name"
   ]
  },
  {
   "cell_type": "code",
   "execution_count": null,
   "id": "1c7a9770",
   "metadata": {},
   "outputs": [],
   "source": [
    "a = 5\n",
    "\n",
    "a -> variable\n",
    "5 -> value"
   ]
  },
  {
   "cell_type": "code",
   "execution_count": null,
   "id": "aa1064ff",
   "metadata": {},
   "outputs": [],
   "source": [
    "a = \"5\"\n",
    "b = \"5\"\n",
    "print(id(a))\n",
    "print(id(b))"
   ]
  },
  {
   "cell_type": "markdown",
   "id": "bf45f814",
   "metadata": {},
   "source": [
    "### Keywords and identifiers"
   ]
  },
  {
   "cell_type": "code",
   "execution_count": null,
   "id": "302f0003",
   "metadata": {},
   "outputs": [],
   "source": [
    "## identifiers\n",
    "Identifiers :- these are the names that we use for reference (to refer an object)\n",
    "1) variable, 2) Function_name, 3) Class_name, 4) File_object_name, 5) Module_name\n",
    "\n",
    "## Keywords\n",
    "- Keywords are the reserve words and they are used for some specific purpose\n",
    "- keywords can not be identifiers\n",
    "example: -True ,False, as, is, in etc"
   ]
  },
  {
   "cell_type": "code",
   "execution_count": null,
   "id": "57de1448",
   "metadata": {},
   "outputs": [],
   "source": [
    "import keyword\n",
    "print(keyword.kwlist)"
   ]
  },
  {
   "cell_type": "markdown",
   "id": "77f09fc6",
   "metadata": {},
   "source": [
    "### Comments in Python"
   ]
  },
  {
   "cell_type": "code",
   "execution_count": null,
   "id": "c57b69e9",
   "metadata": {},
   "outputs": [],
   "source": [
    "a = 10\n",
    "b = 5\n",
    "c = a**b\n",
    "#d = a/b\n",
    "e = a-b\n",
    "f = a%b\n",
    "print(c,d,e,f)\n",
    "print(\"thanks\")"
   ]
  },
  {
   "cell_type": "markdown",
   "id": "7a9239c9",
   "metadata": {},
   "source": [
    "### Typecasting"
   ]
  },
  {
   "cell_type": "code",
   "execution_count": null,
   "id": "339a5cea",
   "metadata": {},
   "outputs": [],
   "source": [
    "- Changing the type of value is known as Typecasting\n",
    "- In python there are several function that facilates in type casting"
   ]
  },
  {
   "cell_type": "code",
   "execution_count": null,
   "id": "6e06f7f5",
   "metadata": {},
   "outputs": [],
   "source": [
    "## list - Tuple\n",
    "# int - Float\n",
    "# float - int\n",
    "# str - int\n",
    "# int - complex\n",
    "# complex - bool"
   ]
  },
  {
   "cell_type": "code",
   "execution_count": null,
   "id": "dbd7276d",
   "metadata": {},
   "outputs": [],
   "source": [
    "a = \"12\"\n",
    "print(int(a))"
   ]
  },
  {
   "cell_type": "code",
   "execution_count": null,
   "id": "1dc22369",
   "metadata": {},
   "outputs": [],
   "source": [
    "a = \"5.0\"\n",
    "print(float(a))"
   ]
  },
  {
   "cell_type": "code",
   "execution_count": null,
   "id": "cece6255",
   "metadata": {},
   "outputs": [],
   "source": [
    "a = \"50\"\n",
    "print(int(a))\n",
    "print(a*int(a))\n",
    "print(int(a)-int(a))"
   ]
  },
  {
   "cell_type": "markdown",
   "id": "49f3348d",
   "metadata": {},
   "source": [
    "## Float function"
   ]
  },
  {
   "cell_type": "markdown",
   "id": "63b25405",
   "metadata": {},
   "source": [
    "- It typecast a float value\n",
    "- It return a float value"
   ]
  },
  {
   "cell_type": "code",
   "execution_count": null,
   "id": "f2704a23",
   "metadata": {},
   "outputs": [],
   "source": [
    "a = 5\n",
    "print(a,type(a))\n",
    "\n",
    "b = float(a)\n",
    "print(b,type(b))"
   ]
  },
  {
   "cell_type": "code",
   "execution_count": null,
   "id": "1ceb37ac",
   "metadata": {},
   "outputs": [],
   "source": [
    "c = '2.8'\n",
    "int(c)  # direct we cant convert"
   ]
  },
  {
   "cell_type": "code",
   "execution_count": null,
   "id": "f652ae33",
   "metadata": {},
   "outputs": [],
   "source": [
    "c = '2.8'\n",
    "print(int(float(c)))"
   ]
  },
  {
   "cell_type": "markdown",
   "id": "6fa08672",
   "metadata": {},
   "source": [
    "## String -str()"
   ]
  },
  {
   "cell_type": "markdown",
   "id": "e0505033",
   "metadata": {},
   "source": [
    "- It typcast to a string\n",
    "- It return a string value"
   ]
  },
  {
   "cell_type": "code",
   "execution_count": null,
   "id": "9b161d32",
   "metadata": {},
   "outputs": [],
   "source": [
    "a = [1,2,3,40]\n",
    "print(a,type(a))"
   ]
  },
  {
   "cell_type": "code",
   "execution_count": null,
   "id": "fd703692",
   "metadata": {},
   "outputs": [],
   "source": [
    "str(a)"
   ]
  },
  {
   "cell_type": "code",
   "execution_count": null,
   "id": "d6697446",
   "metadata": {},
   "outputs": [],
   "source": [
    "codes=[1,2,3,4]\n",
    "for i in codes:\n",
    "    print('emp_'+str(i))"
   ]
  },
  {
   "cell_type": "markdown",
   "id": "ef50dae9",
   "metadata": {},
   "source": [
    "## Complex - complex()"
   ]
  },
  {
   "cell_type": "code",
   "execution_count": null,
   "id": "a2e77a02",
   "metadata": {},
   "outputs": [],
   "source": [
    "- It typecast to a complex value\n",
    "- it returns a complex value"
   ]
  },
  {
   "cell_type": "code",
   "execution_count": null,
   "id": "794a9345",
   "metadata": {},
   "outputs": [],
   "source": [
    "## complex(a,b)\n",
    "\n",
    "# a -> will be the real number\n",
    "# 0 -> imaginary number"
   ]
  },
  {
   "cell_type": "code",
   "execution_count": null,
   "id": "2b29fa63",
   "metadata": {},
   "outputs": [],
   "source": [
    "a = complex(2,5)\n",
    "print(a,type(a))"
   ]
  },
  {
   "cell_type": "code",
   "execution_count": null,
   "id": "bcc37f63",
   "metadata": {},
   "outputs": [],
   "source": [
    "a = complex(-1)\n",
    "print(a)"
   ]
  },
  {
   "cell_type": "markdown",
   "id": "f63960af",
   "metadata": {},
   "source": [
    "## boolean ()"
   ]
  },
  {
   "cell_type": "markdown",
   "id": "33150d3d",
   "metadata": {},
   "source": [
    "- It typecast to boolean value (True/ False)\n",
    "- It return a boolean value"
   ]
  },
  {
   "cell_type": "code",
   "execution_count": null,
   "id": "b3ba0cd3",
   "metadata": {},
   "outputs": [],
   "source": [
    "## int -> 0 is False ,rest 1 to infinity -> True\n",
    "\n",
    "## float -> 0.0 is False, rest True\n",
    "\n",
    "## complex ---> if all combination is 0 -> false, rest anything  -> true\n",
    "\n",
    "## String --> '','''''' , \"u\" empty string is fasle, rest is True\n",
    "\n",
    "## None -> it always False\n",
    "\n",
    "## List :- empty list always false else True\n",
    "\n",
    "## tuple -> () is false else True\n",
    "\n",
    "## set -> {} is False else true\n",
    "\n",
    "## Dict -> {} is false else true\n",
    "\n",
    "## frozenset -> frozenset() or frozenset(empty_iterable) is false or else True\n",
    "\n",
    "## Range -> range(0,0) is false else True"
   ]
  },
  {
   "cell_type": "code",
   "execution_count": null,
   "id": "8ca1d673",
   "metadata": {},
   "outputs": [],
   "source": [
    "print(bool(1568))\n",
    "print(bool(-1))\n",
    "print(bool(0))\n",
    "print(bool(0.0000))"
   ]
  },
  {
   "cell_type": "code",
   "execution_count": null,
   "id": "37c6a9eb",
   "metadata": {},
   "outputs": [],
   "source": [
    "print(bool(0+0j))\n",
    "print(bool(0+1j))\n",
    "print(bool(1+0j))"
   ]
  },
  {
   "cell_type": "code",
   "execution_count": null,
   "id": "eddf1a8e",
   "metadata": {},
   "outputs": [],
   "source": [
    "print(bool(''''''))\n",
    "print(bool(\"''\"))\n",
    "print(bool(' '))"
   ]
  },
  {
   "cell_type": "code",
   "execution_count": null,
   "id": "eb283d42",
   "metadata": {},
   "outputs": [],
   "source": [
    "len(\"''''''\")  -> 6 value"
   ]
  },
  {
   "cell_type": "code",
   "execution_count": null,
   "id": "827bcaa9",
   "metadata": {},
   "outputs": [],
   "source": [
    "print(bool([''\"\"]))\n",
    "print(bool([[]]))"
   ]
  },
  {
   "cell_type": "code",
   "execution_count": null,
   "id": "a6d11fa7",
   "metadata": {},
   "outputs": [],
   "source": [
    "# tuple\n",
    "\n",
    "print(bool())\n",
    "print(bool(\"''\"))\n",
    "print(bool((())))"
   ]
  },
  {
   "cell_type": "code",
   "execution_count": null,
   "id": "d82cacea",
   "metadata": {},
   "outputs": [],
   "source": [
    "print(type((2)))\n",
    "print(type((2,)))"
   ]
  },
  {
   "cell_type": "code",
   "execution_count": null,
   "id": "03704358",
   "metadata": {},
   "outputs": [],
   "source": [
    " print(bool(frozenset()))\n",
    "print(bool(frozenset([])))\n",
    "print(bool(frozenset({})))\n",
    "print(bool(frozenset({0})))\n",
    "print(bool(frozenset([1])))"
   ]
  },
  {
   "cell_type": "code",
   "execution_count": null,
   "id": "d776f34e",
   "metadata": {},
   "outputs": [],
   "source": [
    "print(bool(range(0)))\n",
    "print(bool(list((range(0)))))"
   ]
  },
  {
   "cell_type": "markdown",
   "id": "246330d9",
   "metadata": {},
   "source": [
    "## List"
   ]
  },
  {
   "cell_type": "code",
   "execution_count": null,
   "id": "731f1a81",
   "metadata": {},
   "outputs": [],
   "source": [
    "- It takes an iterable as an input and return a list.\n",
    "- It typecast any iterable into a list"
   ]
  },
  {
   "cell_type": "code",
   "execution_count": null,
   "id": "8c99232d",
   "metadata": {},
   "outputs": [],
   "source": [
    "Iterable -> String, List, Tuple, Dictionary, Set, frozenset, Range\n",
    "non - iterable ->  int, float, complex, bool, None"
   ]
  },
  {
   "cell_type": "code",
   "execution_count": null,
   "id": "3b0f0604",
   "metadata": {},
   "outputs": [],
   "source": [
    "l = \"lopk\"\n",
    "print(l,type(l))"
   ]
  },
  {
   "cell_type": "code",
   "execution_count": null,
   "id": "01fd1321",
   "metadata": {},
   "outputs": [],
   "source": [
    "a = {\"Name\":'hiom',\"hi\":\"lo\"}\n",
    "print(type(a))\n",
    "print(a.keys())\n",
    "print(a.values())"
   ]
  },
  {
   "cell_type": "code",
   "execution_count": null,
   "id": "b9183084",
   "metadata": {},
   "outputs": [],
   "source": [
    "## after converting it provide only key\n",
    "a = list(a)\n",
    "print(a)"
   ]
  },
  {
   "cell_type": "code",
   "execution_count": null,
   "id": "3a4b6bb2",
   "metadata": {},
   "outputs": [],
   "source": [
    "## set\n",
    "\n",
    "a = {10,12,12,145,154}\n",
    "print(list(a))"
   ]
  },
  {
   "cell_type": "code",
   "execution_count": null,
   "id": "bf20b6a6",
   "metadata": {},
   "outputs": [],
   "source": [
    "f = frozenset([\"hii\",\"ksi\"])\n",
    "print(f)"
   ]
  },
  {
   "cell_type": "code",
   "execution_count": null,
   "id": "c62196d7",
   "metadata": {},
   "outputs": [],
   "source": [
    "b = list(f)\n",
    "print(b)"
   ]
  },
  {
   "cell_type": "code",
   "execution_count": null,
   "id": "956a31bc",
   "metadata": {},
   "outputs": [],
   "source": [
    "## Tuple()\n",
    "-It is typecast to a tuple"
   ]
  },
  {
   "cell_type": "code",
   "execution_count": null,
   "id": "0261a047",
   "metadata": {},
   "outputs": [],
   "source": [
    "y = \"python\"\n",
    "print(y)\n",
    "tuple(y)\n"
   ]
  },
  {
   "cell_type": "code",
   "execution_count": null,
   "id": "e4f5bb86",
   "metadata": {},
   "outputs": [],
   "source": [
    "## Set()\n",
    "- It is typecast to be set"
   ]
  },
  {
   "cell_type": "code",
   "execution_count": null,
   "id": "aa904186",
   "metadata": {},
   "outputs": [],
   "source": [
    "y = \"ko\"\n",
    "b = set(y)\n",
    "print(b)"
   ]
  },
  {
   "cell_type": "code",
   "execution_count": null,
   "id": "95e2572a",
   "metadata": {},
   "outputs": [],
   "source": [
    "## Dict()\n",
    "\n",
    "- It takes iterable as input.  -> iterable []\n",
    "- The iterable that we pass inside the dict() must have one more iterbale inside it.\n",
    "- The inner iterable must have the teo element: first -> key and second -> Value"
   ]
  },
  {
   "cell_type": "code",
   "execution_count": null,
   "id": "e837e69c",
   "metadata": {},
   "outputs": [],
   "source": [
    "a = [[1,2]]\n",
    "b = dict(a)\n",
    "print(b)"
   ]
  },
  {
   "cell_type": "code",
   "execution_count": null,
   "id": "5f9e58c4",
   "metadata": {},
   "outputs": [],
   "source": [
    "a = [(\"hii\",\"lo\"),(\"ko\",\"lo\")]\n",
    "b = dict(a)\n",
    "print(a)"
   ]
  },
  {
   "cell_type": "code",
   "execution_count": null,
   "id": "8f221594",
   "metadata": {},
   "outputs": [],
   "source": [
    "a = ((\"namw\",\"ko\"),)\n",
    "dict(a)"
   ]
  },
  {
   "cell_type": "code",
   "execution_count": null,
   "id": "22990a3a",
   "metadata": {},
   "outputs": [],
   "source": [
    "(()) -> one tuple"
   ]
  },
  {
   "cell_type": "markdown",
   "id": "b30f1b65",
   "metadata": {},
   "source": [
    "## Class 4 input_output(operator)"
   ]
  },
  {
   "cell_type": "markdown",
   "id": "f380397e",
   "metadata": {},
   "source": [
    "### Input Function\n",
    "- The function that we use to take the input from the user at the run time are known as input function"
   ]
  },
  {
   "cell_type": "markdown",
   "id": "38e7a09a",
   "metadata": {},
   "source": [
    "##### Intialisation :- Assigning some value to a variable."
   ]
  },
  {
   "cell_type": "code",
   "execution_count": null,
   "id": "71afe084",
   "metadata": {},
   "outputs": [],
   "source": [
    "a = s # initaialisation"
   ]
  },
  {
   "cell_type": "markdown",
   "id": "bac2c8f4",
   "metadata": {},
   "source": [
    "### Intialisation has two types"
   ]
  },
  {
   "cell_type": "code",
   "execution_count": null,
   "id": "f46024ae",
   "metadata": {},
   "outputs": [],
   "source": [
    "- 1) Static Initialization\n",
    "- 2) Dynamic Initialization"
   ]
  },
  {
   "cell_type": "code",
   "execution_count": null,
   "id": "cb2f4e6d",
   "metadata": {},
   "outputs": [],
   "source": [
    "## Static Initilization\n",
    "\n",
    "- When we assigning some value to a variable while writing the program (before execution)."
   ]
  },
  {
   "cell_type": "code",
   "execution_count": null,
   "id": "2a0797f7",
   "metadata": {},
   "outputs": [],
   "source": [
    "print(\"hello\")\n",
    "\n",
    "a = 5     #Static Initialization \n",
    "b = 2     #Static Initialization\n",
    "\n",
    "c = a**b\n",
    "print(c)"
   ]
  },
  {
   "cell_type": "code",
   "execution_count": null,
   "id": "6102d665",
   "metadata": {},
   "outputs": [],
   "source": [
    "## Dynamic Initialization\n",
    "\n",
    "- when we assign some value to varibale at run time(after execution)\n",
    "- For dynamic initialization we have to use input function."
   ]
  },
  {
   "cell_type": "markdown",
   "id": "13ee89a1",
   "metadata": {},
   "source": [
    "## input()"
   ]
  },
  {
   "cell_type": "code",
   "execution_count": null,
   "id": "6b5916e2",
   "metadata": {},
   "outputs": [],
   "source": [
    "- input() takes the input from the user at run time.\n",
    "- input() always return a string value."
   ]
  },
  {
   "cell_type": "code",
   "execution_count": null,
   "id": "f5fded95",
   "metadata": {},
   "outputs": [],
   "source": [
    "write a program that takes two number from the user and give the multiplication."
   ]
  },
  {
   "cell_type": "code",
   "execution_count": null,
   "id": "e1303a4b",
   "metadata": {},
   "outputs": [],
   "source": [
    "synatx -\n",
    "input(\"message\")"
   ]
  },
  {
   "cell_type": "code",
   "execution_count": null,
   "id": "062212a0",
   "metadata": {},
   "outputs": [],
   "source": [
    "a = int(input(\"enter the number:-\"))\n",
    "print(a,type(a))"
   ]
  },
  {
   "cell_type": "code",
   "execution_count": null,
   "id": "bcb4d6a7",
   "metadata": {},
   "outputs": [],
   "source": [
    "b = int(input(\"enter the number:- \"))\n",
    "print(b)"
   ]
  },
  {
   "cell_type": "code",
   "execution_count": null,
   "id": "3f68b107",
   "metadata": {},
   "outputs": [],
   "source": [
    "a*b"
   ]
  },
  {
   "cell_type": "code",
   "execution_count": null,
   "id": "39661e0e",
   "metadata": {},
   "outputs": [],
   "source": [
    "bool('0')"
   ]
  },
  {
   "cell_type": "markdown",
   "id": "826053f0",
   "metadata": {},
   "source": [
    "## eval()"
   ]
  },
  {
   "cell_type": "markdown",
   "id": "9dab4683",
   "metadata": {},
   "source": [
    "- It takes a string as an input and it evaluates the type of the value inside the string."
   ]
  },
  {
   "cell_type": "code",
   "execution_count": null,
   "id": "818bee2d",
   "metadata": {},
   "outputs": [],
   "source": [
    "# Syntax - eval('value')"
   ]
  },
  {
   "cell_type": "code",
   "execution_count": null,
   "id": "00261ba8",
   "metadata": {},
   "outputs": [],
   "source": [
    "a = eval('5')\n",
    "print(a,type(a))"
   ]
  },
  {
   "cell_type": "code",
   "execution_count": null,
   "id": "24c212b7",
   "metadata": {},
   "outputs": [],
   "source": [
    "b = eval('2.35')\n",
    "print(b,type(b))"
   ]
  },
  {
   "cell_type": "code",
   "execution_count": null,
   "id": "9fc58250",
   "metadata": {},
   "outputs": [],
   "source": [
    "e = \"kio\"\n",
    "c = eval(\"e\")\n",
    "print(c,type(c))"
   ]
  },
  {
   "cell_type": "code",
   "execution_count": null,
   "id": "8f924b26",
   "metadata": {},
   "outputs": [],
   "source": [
    "## for string\n",
    "\n",
    "x = eval('\"lop\"')\n",
    "print(x)"
   ]
  },
  {
   "cell_type": "code",
   "execution_count": null,
   "id": "422f3aab",
   "metadata": {},
   "outputs": [],
   "source": [
    "a = eval('[1,2,3]')\n",
    "print(a,type(a))"
   ]
  },
  {
   "cell_type": "code",
   "execution_count": null,
   "id": "1bf4b9ac",
   "metadata": {},
   "outputs": [],
   "source": [
    "d = eval('{1,2,3}')\n",
    "print(d,type(d))"
   ]
  },
  {
   "cell_type": "code",
   "execution_count": null,
   "id": "3286fd2f",
   "metadata": {},
   "outputs": [],
   "source": [
    "e = eval('frozenset(str(1))')\n",
    "print(e)"
   ]
  },
  {
   "cell_type": "markdown",
   "id": "641966ed",
   "metadata": {},
   "source": [
    "## output Function\n",
    "\n",
    "- Output function are used to print the output on the console (output screen)"
   ]
  },
  {
   "cell_type": "code",
   "execution_count": null,
   "id": "ad9beb60",
   "metadata": {},
   "outputs": [],
   "source": [
    "## print()\n",
    "\n",
    "- Print () is an output function\n",
    "- print() prints the output on the output screen."
   ]
  },
  {
   "cell_type": "code",
   "execution_count": null,
   "id": "3a869b5f",
   "metadata": {},
   "outputs": [],
   "source": [
    "## syntax\n",
    "\n",
    "print(\"message\")"
   ]
  },
  {
   "cell_type": "code",
   "execution_count": null,
   "id": "f4c0a3dd",
   "metadata": {},
   "outputs": [],
   "source": [
    "a = 3+7j\n",
    "print(a,type(a))"
   ]
  },
  {
   "cell_type": "code",
   "execution_count": null,
   "id": "a32d6d1f",
   "metadata": {},
   "outputs": [],
   "source": [
    "## Q1. write a program where that takes name of the user as input and prints - my name is"
   ]
  },
  {
   "cell_type": "code",
   "execution_count": null,
   "id": "5f92b68e",
   "metadata": {},
   "outputs": [],
   "source": [
    "a = input(\"enter the name:-\")\n",
    "print('my name is',a)"
   ]
  },
  {
   "cell_type": "code",
   "execution_count": null,
   "id": "e9810c2d",
   "metadata": {},
   "outputs": [],
   "source": [
    "## first method\n",
    "a = input(\"enter the name:-\")\n",
    "b = input(\"enter your friend name:- \")\n",
    "print(\"my name is {0} and my friends's name is {1}\".format(a,b))"
   ]
  },
  {
   "cell_type": "code",
   "execution_count": null,
   "id": "daa1340f",
   "metadata": {},
   "outputs": [],
   "source": [
    "## Second method\n",
    "a = input(\"enter the name:-\")\n",
    "b = input(\"enter your friend name:- \")\n",
    "print(f\"my name is {a} and my friends's name is {b}\")"
   ]
  },
  {
   "cell_type": "code",
   "execution_count": null,
   "id": "1bb0c9ff",
   "metadata": {},
   "outputs": [],
   "source": [
    "## Third method\n",
    "a = input(\"enter the name:-\")\n",
    "b = input(\"enter your friend name:- \")\n",
    "print(\"my name is '%s'%a and my friends's name is '%s'%b\")"
   ]
  },
  {
   "cell_type": "markdown",
   "id": "adf1d633",
   "metadata": {},
   "source": [
    "## Format Specifiers"
   ]
  },
  {
   "cell_type": "code",
   "execution_count": null,
   "id": "9f26ee37",
   "metadata": {},
   "outputs": [],
   "source": [
    "1) '%d' -> int\n",
    "2) '%.2f' -> float\n",
    "3) '%s'   -> string"
   ]
  },
  {
   "cell_type": "code",
   "execution_count": null,
   "id": "725551a3",
   "metadata": {},
   "outputs": [],
   "source": [
    "a = 2.5\n",
    "print('%.1f'%a)"
   ]
  },
  {
   "cell_type": "code",
   "execution_count": null,
   "id": "9fb76bc3",
   "metadata": {},
   "outputs": [],
   "source": [
    "## sep :- multiple values in single\n",
    "a = \"hii\"\n",
    "b = \"today\"\n",
    "c = \"wehlome\"\n",
    "\n",
    "print(a,b,c,sep='\\n')"
   ]
  },
  {
   "cell_type": "code",
   "execution_count": null,
   "id": "f9bbc3f1",
   "metadata": {},
   "outputs": [],
   "source": [
    "## end :- multiple values in print statement\n",
    "a = \"hii\"\n",
    "b = \"today\"\n",
    "c = \"wehlome\"\n",
    "\n",
    "print(a,b,c,end='+')"
   ]
  },
  {
   "cell_type": "markdown",
   "id": "0b80ff58",
   "metadata": {},
   "source": [
    "# Operators"
   ]
  },
  {
   "cell_type": "code",
   "execution_count": null,
   "id": "a360383e",
   "metadata": {},
   "outputs": [],
   "source": [
    "- These are some specific character use to perform some specific preparation on operands(values)"
   ]
  },
  {
   "cell_type": "code",
   "execution_count": null,
   "id": "31071375",
   "metadata": {},
   "outputs": [],
   "source": [
    "1) Arithmetic Operator\n",
    "2) assignment operator\n",
    "3) Comparison operator\n",
    "4) Equality operator\n",
    "5) Membership OPeartor\n",
    "6) Identity Operator\n",
    "7) Bitwise Opeartor\n",
    "8) Termary operator\n",
    "9) Comparison Operator"
   ]
  },
  {
   "cell_type": "markdown",
   "id": "68f10be7",
   "metadata": {},
   "source": [
    "### Arithmetic Operator"
   ]
  },
  {
   "cell_type": "markdown",
   "id": "3576f657",
   "metadata": {},
   "source": [
    "- these operator are used to perform some arithmetic operation."
   ]
  },
  {
   "cell_type": "code",
   "execution_count": null,
   "id": "b7b079d8",
   "metadata": {},
   "outputs": [],
   "source": [
    "+ -> addition\n",
    "- -> Subtraction\n",
    "* -> Multiplication\n",
    "/ -> Division\n",
    "// -> floor division\n",
    "% -> Modulo operator (remainder after division)\n",
    "** -> power(exponent)  :- it precedence to take highest value first"
   ]
  },
  {
   "cell_type": "code",
   "execution_count": null,
   "id": "67c23685",
   "metadata": {},
   "outputs": [],
   "source": [
    "## precedence\n",
    "\n",
    "exponent -> division -> multiplication -> addition/subtraction "
   ]
  },
  {
   "cell_type": "code",
   "execution_count": 1,
   "id": "9c703abe",
   "metadata": {},
   "outputs": [
    {
     "data": {
      "text/plain": [
       "43.0"
      ]
     },
     "execution_count": 1,
     "metadata": {},
     "output_type": "execute_result"
    }
   ],
   "source": [
    "## it solve like bodmass\n",
    "\n",
    "5**3/5+6*3"
   ]
  },
  {
   "cell_type": "code",
   "execution_count": null,
   "id": "bb7235ac",
   "metadata": {},
   "outputs": [],
   "source": [
    "a = 5\n",
    "b = 8\n",
    "print(a+b)\n",
    "print(a-b)\n",
    "print(a*b)\n",
    "print(a/b)\n",
    "print(a//b)\n",
    "print(a%b)\n",
    "print(a**b)"
   ]
  },
  {
   "cell_type": "code",
   "execution_count": null,
   "id": "7faf379b",
   "metadata": {},
   "outputs": [],
   "source": [
    "## floor division\n",
    "\n",
    "a = 7\n",
    "b = 2\n",
    "print(a//b)\n",
    "print(a%b)"
   ]
  },
  {
   "cell_type": "code",
   "execution_count": null,
   "id": "3d71d88a",
   "metadata": {},
   "outputs": [],
   "source": [
    "a = 2\n",
    "b = 8\n",
    "print(a//b)\n",
    "print(a%b) ## small number if remainder not remain"
   ]
  },
  {
   "cell_type": "code",
   "execution_count": null,
   "id": "c16e4b53",
   "metadata": {},
   "outputs": [],
   "source": [
    "## floor value\n",
    "## cell value"
   ]
  },
  {
   "cell_type": "code",
   "execution_count": null,
   "id": "0bdca6fb",
   "metadata": {},
   "outputs": [],
   "source": [
    "## floor value\n",
    "2.5\n",
    "\n",
    "it came betwwen 2 and  3\n",
    "2 -> floor value\n",
    "3 -> cell value"
   ]
  },
  {
   "cell_type": "code",
   "execution_count": null,
   "id": "33a03fed",
   "metadata": {},
   "outputs": [],
   "source": [
    "## import\n",
    "\n",
    "import math\n",
    "math.floor(2.5)"
   ]
  },
  {
   "cell_type": "code",
   "execution_count": null,
   "id": "a9e266ae",
   "metadata": {},
   "outputs": [],
   "source": [
    "math.ceil(2.5)"
   ]
  },
  {
   "cell_type": "code",
   "execution_count": null,
   "id": "4ff2550b",
   "metadata": {},
   "outputs": [],
   "source": [
    "## round(float_value)\n",
    "- it rounds up the value"
   ]
  },
  {
   "cell_type": "code",
   "execution_count": null,
   "id": "ab71db29",
   "metadata": {},
   "outputs": [],
   "source": [
    "a = 2.4\n",
    "print(round(a))"
   ]
  },
  {
   "cell_type": "code",
   "execution_count": null,
   "id": "2c0d9324",
   "metadata": {},
   "outputs": [],
   "source": [
    "a = 2.56874985235565\n",
    "print(round(a))"
   ]
  },
  {
   "cell_type": "code",
   "execution_count": null,
   "id": "dee6d999",
   "metadata": {},
   "outputs": [],
   "source": [
    "print(round(a,5))"
   ]
  },
  {
   "cell_type": "code",
   "execution_count": null,
   "id": "88743668",
   "metadata": {},
   "outputs": [],
   "source": [
    "## squareroot\n",
    "\n",
    "3**4"
   ]
  },
  {
   "cell_type": "code",
   "execution_count": null,
   "id": "092dc8ed",
   "metadata": {},
   "outputs": [],
   "source": [
    "5**5**5"
   ]
  },
  {
   "cell_type": "markdown",
   "id": "59b1845d",
   "metadata": {},
   "source": [
    "## Logical operator"
   ]
  },
  {
   "cell_type": "code",
   "execution_count": null,
   "id": "e2d61ea9",
   "metadata": {},
   "outputs": [],
   "source": [
    "- these operator are used to perform logical operation.\n",
    "- These operators follow the truth table."
   ]
  },
  {
   "cell_type": "code",
   "execution_count": null,
   "id": "3215e46e",
   "metadata": {},
   "outputs": [],
   "source": [
    "## and\n",
    "## or\n",
    "## not"
   ]
  },
  {
   "cell_type": "code",
   "execution_count": null,
   "id": "96f8ec6b",
   "metadata": {},
   "outputs": [],
   "source": [
    "## and\n",
    "\n",
    "- it looks for the false value\n",
    "- As soon as it gets false it return false\n",
    "-[True and True is True else False]"
   ]
  },
  {
   "cell_type": "code",
   "execution_count": 4,
   "id": "98fdb81c",
   "metadata": {},
   "outputs": [
    {
     "name": "stdout",
     "output_type": "stream",
     "text": [
      "False\n",
      "True\n",
      "False\n"
     ]
    }
   ],
   "source": [
    "print(True and False)\n",
    "print(True and True)\n",
    "print(False and False)"
   ]
  },
  {
   "cell_type": "code",
   "execution_count": 11,
   "id": "3740beac",
   "metadata": {},
   "outputs": [
    {
     "name": "stdout",
     "output_type": "stream",
     "text": [
      "5\n",
      "2\n",
      "1\n"
     ]
    }
   ],
   "source": [
    "print(2 and 5)  ## left first\n",
    "print(10 and 2)\n",
    "print(5 and 1)"
   ]
  },
  {
   "cell_type": "code",
   "execution_count": null,
   "id": "1c8b1a23",
   "metadata": {},
   "outputs": [],
   "source": []
  },
  {
   "cell_type": "code",
   "execution_count": 13,
   "id": "7a444cb3",
   "metadata": {},
   "outputs": [
    {
     "data": {
      "text/plain": [
       "9.55"
      ]
     },
     "execution_count": 13,
     "metadata": {},
     "output_type": "execute_result"
    }
   ],
   "source": [
    "round(9.55,2)"
   ]
  },
  {
   "cell_type": "code",
   "execution_count": null,
   "id": "fb8c1da2",
   "metadata": {},
   "outputs": [],
   "source": [
    "## or\n",
    "\n",
    "- It looks for the True value\n",
    "- As soon as it gets True, it return True\n",
    "- If there is no True then it return the last false"
   ]
  },
  {
   "cell_type": "code",
   "execution_count": 16,
   "id": "e1598f9b",
   "metadata": {},
   "outputs": [
    {
     "name": "stdout",
     "output_type": "stream",
     "text": [
      "True\n",
      "True\n",
      "False\n",
      "2\n",
      "hii\n"
     ]
    }
   ],
   "source": [
    "## or\n",
    "\n",
    "print(True or False)\n",
    "print(True or True)\n",
    "print(False or False)\n",
    "\n",
    "print(2 or 5)   # right side first\n",
    "print(\"hii\" or 5)"
   ]
  },
  {
   "cell_type": "code",
   "execution_count": null,
   "id": "d57de2d6",
   "metadata": {},
   "outputs": [],
   "source": [
    "## not\n",
    "\n",
    "- It return viseversa\n",
    "- It is a unary operator as it works upon a single operand."
   ]
  },
  {
   "cell_type": "code",
   "execution_count": 19,
   "id": "69b291fd",
   "metadata": {},
   "outputs": [
    {
     "name": "stdout",
     "output_type": "stream",
     "text": [
      "True\n",
      "False\n",
      "True\n",
      "False\n"
     ]
    }
   ],
   "source": [
    "## not\n",
    "\n",
    "print(not False and True)\n",
    "print(not True)\n",
    "print(not False)\n",
    "\n",
    "print(not 2 and 5)"
   ]
  },
  {
   "cell_type": "markdown",
   "id": "695d821d",
   "metadata": {},
   "source": [
    "## Comparison Operator"
   ]
  },
  {
   "cell_type": "code",
   "execution_count": null,
   "id": "71b6914c",
   "metadata": {},
   "outputs": [],
   "source": [
    "- These separators compares two values and retruns a boolean value"
   ]
  },
  {
   "cell_type": "code",
   "execution_count": null,
   "id": "a3cdd34a",
   "metadata": {},
   "outputs": [],
   "source": [
    "< -> less than\n",
    "> -> greater then\n",
    ">= -> greater then equal to\n",
    "<= -> less  then equal to"
   ]
  },
  {
   "cell_type": "code",
   "execution_count": 1,
   "id": "c2b21e07",
   "metadata": {},
   "outputs": [
    {
     "name": "stdout",
     "output_type": "stream",
     "text": [
      "True\n"
     ]
    }
   ],
   "source": [
    "print(5<6)"
   ]
  },
  {
   "cell_type": "code",
   "execution_count": 2,
   "id": "1b4253a9",
   "metadata": {},
   "outputs": [
    {
     "name": "stdout",
     "output_type": "stream",
     "text": [
      "True\n"
     ]
    }
   ],
   "source": [
    "print(-6<-5)"
   ]
  },
  {
   "cell_type": "code",
   "execution_count": 3,
   "id": "c0ab0e57",
   "metadata": {},
   "outputs": [
    {
     "name": "stdout",
     "output_type": "stream",
     "text": [
      "True\n"
     ]
    }
   ],
   "source": [
    "print(5<=6)   #it consider the two less then or equal to"
   ]
  },
  {
   "cell_type": "code",
   "execution_count": 4,
   "id": "255b3043",
   "metadata": {},
   "outputs": [
    {
     "name": "stdout",
     "output_type": "stream",
     "text": [
      "True\n"
     ]
    }
   ],
   "source": [
    "print(6>=5)"
   ]
  },
  {
   "cell_type": "code",
   "execution_count": null,
   "id": "b7107618",
   "metadata": {},
   "outputs": [],
   "source": [
    "# in case of String value it compares the ASCII value."
   ]
  },
  {
   "cell_type": "code",
   "execution_count": null,
   "id": "59a01f6a",
   "metadata": {},
   "outputs": [],
   "source": [
    "ASCII - American Standard Code for Information Interchange"
   ]
  },
  {
   "cell_type": "code",
   "execution_count": 5,
   "id": "4341a04c",
   "metadata": {},
   "outputs": [
    {
     "name": "stdout",
     "output_type": "stream",
     "text": [
      "False\n"
     ]
    }
   ],
   "source": [
    "## ASCII value\n",
    "\n",
    "A - Z -> 65 to 90\n",
    "a - z -> 97 to 122"
   ]
  },
  {
   "cell_type": "code",
   "execution_count": 6,
   "id": "ec206fd3",
   "metadata": {},
   "outputs": [
    {
     "name": "stdout",
     "output_type": "stream",
     "text": [
      "True\n"
     ]
    }
   ],
   "source": [
    "print(\"x\">\"O\")"
   ]
  },
  {
   "cell_type": "code",
   "execution_count": null,
   "id": "c0065684",
   "metadata": {},
   "outputs": [],
   "source": [
    "## To check The ASCII value\n",
    "\n",
    "ord(\"charchter\") -> it returns a particular value"
   ]
  },
  {
   "cell_type": "code",
   "execution_count": 7,
   "id": "35e22b17",
   "metadata": {},
   "outputs": [
    {
     "data": {
      "text/plain": [
       "35"
      ]
     },
     "execution_count": 7,
     "metadata": {},
     "output_type": "execute_result"
    }
   ],
   "source": [
    "ord(\"#\")"
   ]
  },
  {
   "cell_type": "code",
   "execution_count": 8,
   "id": "5bf070d5",
   "metadata": {},
   "outputs": [
    {
     "data": {
      "text/plain": [
       "53"
      ]
     },
     "execution_count": 8,
     "metadata": {},
     "output_type": "execute_result"
    }
   ],
   "source": [
    "ord(\"5\")"
   ]
  },
  {
   "cell_type": "code",
   "execution_count": 9,
   "id": "66a6f4ef",
   "metadata": {},
   "outputs": [
    {
     "name": "stdout",
     "output_type": "stream",
     "text": [
      "True\n"
     ]
    }
   ],
   "source": [
    "print(\"Amit\"<\"Pushpa\")  # It always check the first alaphabhet \"A\"<\"P\""
   ]
  },
  {
   "cell_type": "code",
   "execution_count": 10,
   "id": "c65921f1",
   "metadata": {},
   "outputs": [
    {
     "data": {
      "text/plain": [
       "(65, 80)"
      ]
     },
     "execution_count": 10,
     "metadata": {},
     "output_type": "execute_result"
    }
   ],
   "source": [
    "ord(\"A\"),ord(\"P\")"
   ]
  },
  {
   "cell_type": "code",
   "execution_count": null,
   "id": "4724de66",
   "metadata": {},
   "outputs": [],
   "source": [
    "## special Charachter < digits < capital case letters < small case letters"
   ]
  },
  {
   "cell_type": "code",
   "execution_count": 11,
   "id": "6d1a507b",
   "metadata": {},
   "outputs": [
    {
     "name": "stdout",
     "output_type": "stream",
     "text": [
      "True\n"
     ]
    }
   ],
   "source": [
    "print(\"#$\"<\"124\")"
   ]
  },
  {
   "cell_type": "markdown",
   "id": "f1571c09",
   "metadata": {},
   "source": [
    "## Equality operator"
   ]
  },
  {
   "cell_type": "code",
   "execution_count": null,
   "id": "14568350",
   "metadata": {},
   "outputs": [],
   "source": [
    "- These operator check wheather the two value are equal or not :- ==,!= (It is case sensitive)\n",
    "    \n",
    "## Equal\n",
    "when two values are qual to each other\n",
    "\n",
    "## not equal\n",
    "when two values are not qual to each other"
   ]
  },
  {
   "cell_type": "code",
   "execution_count": 12,
   "id": "2f78bb94",
   "metadata": {},
   "outputs": [
    {
     "name": "stdout",
     "output_type": "stream",
     "text": [
      "False\n"
     ]
    }
   ],
   "source": [
    "print(5==6)"
   ]
  },
  {
   "cell_type": "code",
   "execution_count": 16,
   "id": "808f1d08",
   "metadata": {},
   "outputs": [
    {
     "name": "stdout",
     "output_type": "stream",
     "text": [
      "False\n"
     ]
    }
   ],
   "source": [
    "print(\"ki\"!=\"ki\")"
   ]
  },
  {
   "cell_type": "markdown",
   "id": "dbfd7ad8",
   "metadata": {},
   "source": [
    "## Assignment operator"
   ]
  },
  {
   "cell_type": "code",
   "execution_count": null,
   "id": "1e17b967",
   "metadata": {},
   "outputs": [],
   "source": [
    "## equal \n",
    "- It is used to asssign the value to a variable"
   ]
  },
  {
   "cell_type": "code",
   "execution_count": 17,
   "id": "1c630673",
   "metadata": {},
   "outputs": [
    {
     "name": "stdout",
     "output_type": "stream",
     "text": [
      "5\n"
     ]
    }
   ],
   "source": [
    "a = 5\n",
    "print(a)"
   ]
  },
  {
   "cell_type": "code",
   "execution_count": 20,
   "id": "a238837c",
   "metadata": {},
   "outputs": [
    {
     "name": "stdout",
     "output_type": "stream",
     "text": [
      "False\n"
     ]
    }
   ],
   "source": [
    "a = 8\n",
    "b = 6\n",
    "print(a==b) ## It will check the value of a with b\n",
    "a=b  # it assign the value of b to a"
   ]
  },
  {
   "cell_type": "code",
   "execution_count": 21,
   "id": "fff3e075",
   "metadata": {},
   "outputs": [
    {
     "data": {
      "text/plain": [
       "6"
      ]
     },
     "execution_count": 21,
     "metadata": {},
     "output_type": "execute_result"
    }
   ],
   "source": [
    "a"
   ]
  },
  {
   "cell_type": "markdown",
   "id": "fbf411de",
   "metadata": {},
   "source": [
    "## Membership Operator"
   ]
  },
  {
   "cell_type": "code",
   "execution_count": null,
   "id": "3ae7e65a",
   "metadata": {},
   "outputs": [],
   "source": [
    "- these operator check wheather the value is part of container typr or not.\n",
    "- these operator always return a boolean value.\n",
    "\n",
    "# in , not in"
   ]
  },
  {
   "cell_type": "code",
   "execution_count": null,
   "id": "482231a4",
   "metadata": {},
   "outputs": [],
   "source": [
    "# in (case sensitive)\n",
    "\n",
    "- if a value present in the container "
   ]
  },
  {
   "cell_type": "code",
   "execution_count": null,
   "id": "99a1a03b",
   "metadata": {},
   "outputs": [],
   "source": [
    "Container type :-  a multiple element part."
   ]
  },
  {
   "cell_type": "code",
   "execution_count": 22,
   "id": "0d5cf38a",
   "metadata": {},
   "outputs": [
    {
     "name": "stdout",
     "output_type": "stream",
     "text": [
      "False\n"
     ]
    }
   ],
   "source": [
    "a = [1,2,1,4,2,6000,4]\n",
    "print(5 in a)"
   ]
  },
  {
   "cell_type": "code",
   "execution_count": null,
   "id": "49030f0d",
   "metadata": {},
   "outputs": [],
   "source": [
    "## not in (case sensitive)\n",
    "\n",
    "- if a value not present in the container "
   ]
  },
  {
   "cell_type": "code",
   "execution_count": 24,
   "id": "20a2d94b",
   "metadata": {},
   "outputs": [
    {
     "data": {
      "text/plain": [
       "False"
      ]
     },
     "execution_count": 24,
     "metadata": {},
     "output_type": "execute_result"
    }
   ],
   "source": [
    "listl = [\"True\",\"False\",5+5j,2]\n",
    "2 not in listl"
   ]
  },
  {
   "cell_type": "code",
   "execution_count": 26,
   "id": "c909bc2a",
   "metadata": {},
   "outputs": [
    {
     "name": "stdout",
     "output_type": "stream",
     "text": [
      "frozenset({1, 2, 4})\n"
     ]
    },
    {
     "data": {
      "text/plain": [
       "True"
      ]
     },
     "execution_count": 26,
     "metadata": {},
     "output_type": "execute_result"
    }
   ],
   "source": [
    "f = frozenset([1,2,1,4,2])\n",
    "print(f)\n",
    "\n",
    "2 in f"
   ]
  },
  {
   "cell_type": "markdown",
   "id": "b379bb37",
   "metadata": {},
   "source": [
    "## Identity operator"
   ]
  },
  {
   "cell_type": "code",
   "execution_count": null,
   "id": "bab1818b",
   "metadata": {},
   "outputs": [],
   "source": [
    "- These operator check the memory address of the objects.\n",
    "- these operators do not compare the values.\n",
    "\n",
    "# is, is not"
   ]
  },
  {
   "cell_type": "code",
   "execution_count": null,
   "id": "e3e96e22",
   "metadata": {},
   "outputs": [],
   "source": [
    "# is\n",
    "\n",
    "- If two objects have the same memory address then it return True else False"
   ]
  },
  {
   "cell_type": "code",
   "execution_count": 27,
   "id": "c68c10d4",
   "metadata": {},
   "outputs": [
    {
     "name": "stdout",
     "output_type": "stream",
     "text": [
      "True\n"
     ]
    }
   ],
   "source": [
    "a = 10\n",
    "b = 10\n",
    "\n",
    "print(a is b)"
   ]
  },
  {
   "cell_type": "code",
   "execution_count": 31,
   "id": "58ac394a",
   "metadata": {},
   "outputs": [
    {
     "name": "stdout",
     "output_type": "stream",
     "text": [
      "False\n"
     ]
    }
   ],
   "source": [
    "print(\"hii\" is \"lhii\")"
   ]
  },
  {
   "cell_type": "markdown",
   "id": "3faf976b",
   "metadata": {},
   "source": [
    "#### Object reusability in python\n",
    "\n",
    "- When both the value si same then object reusability is used, float not take the object reusability "
   ]
  },
  {
   "cell_type": "code",
   "execution_count": null,
   "id": "6a30bd73",
   "metadata": {},
   "outputs": [],
   "source": [
    "## object reusability \n",
    "\n",
    "int -> -5 to 256\n",
    "String -> A to Z , a to z\n",
    "Bool -> True / False \n",
    "\n",
    "It will make same ID\n",
    "\n",
    "\n",
    "# float\n",
    "\n",
    "It will make if same value different id for float."
   ]
  },
  {
   "cell_type": "code",
   "execution_count": null,
   "id": "85843551",
   "metadata": {},
   "outputs": [],
   "source": [
    "## program\n",
    "\n",
    "\n",
    "a = 5                          free memory                  Bytecode          \n",
    "b = 10                         App - 3                      a/970 , b/970     ---> variable\n",
    "c = a+b                        test.py                      10/970, 10/970    ---> Heap area\n",
    "print(c)                       App - 2\n",
    "                                 os                                           ---> free memory\n",
    "\n",
    "test.py                        RAM                          \n",
    "\n",
    "## Garbage area\n",
    "\n",
    "It found the area which is not use for variable then it remove from the area."
   ]
  },
  {
   "cell_type": "code",
   "execution_count": 40,
   "id": "02a5a684",
   "metadata": {},
   "outputs": [
    {
     "name": "stdout",
     "output_type": "stream",
     "text": [
      "['DEBUG_COLLECTABLE', 'DEBUG_LEAK', 'DEBUG_SAVEALL', 'DEBUG_STATS', 'DEBUG_UNCOLLECTABLE', '__doc__', '__loader__', '__name__', '__package__', '__spec__', 'callbacks', 'collect', 'disable', 'enable', 'freeze', 'garbage', 'get_count', 'get_debug', 'get_freeze_count', 'get_objects', 'get_referents', 'get_referrers', 'get_stats', 'get_threshold', 'is_finalized', 'is_tracked', 'isenabled', 'set_debug', 'set_threshold', 'unfreeze']\n"
     ]
    }
   ],
   "source": [
    "import gc    -> garbage collector\n",
    "print(dir(gc))"
   ]
  },
  {
   "cell_type": "code",
   "execution_count": null,
   "id": "8746cb92",
   "metadata": {},
   "outputs": [],
   "source": [
    "int -> -5 to 256 follow the object reusability concept\n",
    "\n",
    "str -> A-z, a-z follow the object reusability concept\n",
    "\n",
    "float, complex amd any derived datatype do not follow the object reusability concept."
   ]
  },
  {
   "cell_type": "code",
   "execution_count": 33,
   "id": "826106fb",
   "metadata": {},
   "outputs": [
    {
     "name": "stdout",
     "output_type": "stream",
     "text": [
      "True\n",
      "140719289908440\n",
      "140719289908440\n"
     ]
    }
   ],
   "source": [
    "a = None\n",
    "b = None\n",
    "\n",
    "print(a is b)\n",
    "print(id(a))\n",
    "print(id(b))"
   ]
  },
  {
   "cell_type": "code",
   "execution_count": 34,
   "id": "9a9ead0c",
   "metadata": {},
   "outputs": [
    {
     "name": "stdout",
     "output_type": "stream",
     "text": [
      "False\n",
      "2770719036656\n",
      "2770719036944\n"
     ]
    }
   ],
   "source": [
    "## float\n",
    "\n",
    "a = 2.8\n",
    "b = 2.8\n",
    "\n",
    "print(a is b)\n",
    "print(id(a))\n",
    "print(id(b))"
   ]
  },
  {
   "cell_type": "code",
   "execution_count": null,
   "id": "c458599a",
   "metadata": {},
   "outputs": [],
   "source": [
    " ## is not\n",
    "    \n",
    "- if two objects have different memory not same"
   ]
  },
  {
   "cell_type": "code",
   "execution_count": 35,
   "id": "15358569",
   "metadata": {},
   "outputs": [
    {
     "name": "stdout",
     "output_type": "stream",
     "text": [
      "False\n"
     ]
    }
   ],
   "source": [
    "a = True\n",
    "b = True\n",
    "\n",
    "print(a is not b)"
   ]
  },
  {
   "cell_type": "code",
   "execution_count": 39,
   "id": "54acbea0",
   "metadata": {},
   "outputs": [
    {
     "name": "stdout",
     "output_type": "stream",
     "text": [
      "True\n",
      "False\n"
     ]
    }
   ],
   "source": [
    "a = \"henry,henry\"\n",
    "p = \"henry,henry\"\n",
    "print(a==p)\n",
    "print(a is p)"
   ]
  },
  {
   "cell_type": "markdown",
   "id": "033af1af",
   "metadata": {},
   "source": [
    "## Bitwise Operator"
   ]
  },
  {
   "cell_type": "code",
   "execution_count": null,
   "id": "3ca1ee1f",
   "metadata": {},
   "outputs": [],
   "source": [
    "- Bitwise operator are used for to perform operation on binary digits (bits)\n",
    "- This operator can be used on integer values only.\n",
    "- A only int values can be converted into binary digit."
   ]
  },
  {
   "cell_type": "markdown",
   "id": "65e1ba4f",
   "metadata": {},
   "source": [
    "## Steps"
   ]
  },
  {
   "cell_type": "code",
   "execution_count": null,
   "id": "a9f8b05a",
   "metadata": {},
   "outputs": [],
   "source": [
    "- step_1 -> It converts the int values into binary digits(bits)\n",
    "- step_2 -> It performs the operation bit by bit.\n",
    "- Step_3 -> It converts the result into int value."
   ]
  },
  {
   "cell_type": "code",
   "execution_count": null,
   "id": "ead0711d",
   "metadata": {},
   "outputs": [],
   "source": [
    "1) & bitwise and\n",
    "2) | bitwise or\n",
    "3) ~ bitwise not\n",
    "4) ^ bitwise xor\n",
    "5) << bitwise leftshift\n",
    "6) >> bitwise rightshift"
   ]
  },
  {
   "cell_type": "markdown",
   "id": "0695337f",
   "metadata": {},
   "source": [
    "### & bitwise and"
   ]
  },
  {
   "cell_type": "code",
   "execution_count": null,
   "id": "89a13115",
   "metadata": {},
   "outputs": [],
   "source": [
    "- 1 & 1 is 1 else 0\n",
    "- It looks for 0.\n",
    "- As soon as it gets 0, it will return 0.\n",
    "- If there is no 0 then it will return 1"
   ]
  },
  {
   "cell_type": "code",
   "execution_count": 44,
   "id": "96a4c5f5",
   "metadata": {},
   "outputs": [
    {
     "name": "stdout",
     "output_type": "stream",
     "text": [
      "1\n",
      "0\n",
      "0\n"
     ]
    }
   ],
   "source": [
    "print(1 & 1)\n",
    "print(0 & 1)\n",
    "print(0 & 0)"
   ]
  },
  {
   "cell_type": "code",
   "execution_count": 16,
   "id": "5002d167",
   "metadata": {},
   "outputs": [
    {
     "data": {
      "text/plain": [
       "8"
      ]
     },
     "execution_count": 16,
     "metadata": {},
     "output_type": "execute_result"
    }
   ],
   "source": [
    "78&25"
   ]
  },
  {
   "cell_type": "code",
   "execution_count": 17,
   "id": "caa9a063",
   "metadata": {},
   "outputs": [
    {
     "data": {
      "text/plain": [
       "'0b11001'"
      ]
     },
     "execution_count": 17,
     "metadata": {},
     "output_type": "execute_result"
    }
   ],
   "source": [
    "bin(25)"
   ]
  },
  {
   "cell_type": "code",
   "execution_count": 9,
   "id": "509d8174",
   "metadata": {},
   "outputs": [
    {
     "name": "stdout",
     "output_type": "stream",
     "text": [
      "0b100100\n"
     ]
    },
    {
     "data": {
      "text/plain": [
       "'0b1001110'"
      ]
     },
     "execution_count": 9,
     "metadata": {},
     "output_type": "execute_result"
    }
   ],
   "source": [
    "print(bin(36))\n",
    "bin(78)"
   ]
  },
  {
   "cell_type": "code",
   "execution_count": 4,
   "id": "63e111b4",
   "metadata": {},
   "outputs": [
    {
     "name": "stdout",
     "output_type": "stream",
     "text": [
      "0b100100\n"
     ]
    },
    {
     "data": {
      "text/plain": [
       "'0b1001110'"
      ]
     },
     "execution_count": 4,
     "metadata": {},
     "output_type": "execute_result"
    }
   ],
   "source": [
    "1001110\n",
    "11001\n",
    "110011"
   ]
  },
  {
   "cell_type": "code",
   "execution_count": 20,
   "id": "58955145",
   "metadata": {},
   "outputs": [
    {
     "data": {
      "text/plain": [
       "51"
      ]
     },
     "execution_count": 20,
     "metadata": {},
     "output_type": "execute_result"
    }
   ],
   "source": [
    "int(0b110011)"
   ]
  },
  {
   "cell_type": "code",
   "execution_count": 11,
   "id": "da3ccfeb",
   "metadata": {},
   "outputs": [
    {
     "data": {
      "text/plain": [
       "36"
      ]
     },
     "execution_count": 11,
     "metadata": {},
     "output_type": "execute_result"
    }
   ],
   "source": [
    "int(0b100100)"
   ]
  },
  {
   "cell_type": "code",
   "execution_count": null,
   "id": "1cd245d3",
   "metadata": {},
   "outputs": [],
   "source": [
    "   100100   (36 in binary)\n",
    " & 1001110  (78 in binary)\n",
    "   -------\n",
    "   100100    (Result)"
   ]
  },
  {
   "cell_type": "code",
   "execution_count": 21,
   "id": "090b6300",
   "metadata": {},
   "outputs": [
    {
     "data": {
      "text/plain": [
       "17"
      ]
     },
     "execution_count": 21,
     "metadata": {},
     "output_type": "execute_result"
    }
   ],
   "source": [
    "int(0b10001)"
   ]
  },
  {
   "cell_type": "code",
   "execution_count": 23,
   "id": "b0104921",
   "metadata": {},
   "outputs": [
    {
     "data": {
      "text/plain": [
       "0"
      ]
     },
     "execution_count": 23,
     "metadata": {},
     "output_type": "execute_result"
    }
   ],
   "source": [
    "36&74"
   ]
  },
  {
   "cell_type": "code",
   "execution_count": null,
   "id": "db9639c2",
   "metadata": {},
   "outputs": [],
   "source": [
    "## Step_1 - Convert the int value into binary digit"
   ]
  },
  {
   "cell_type": "code",
   "execution_count": 47,
   "id": "b86a7595",
   "metadata": {},
   "outputs": [
    {
     "data": {
      "text/plain": [
       "'0b100100'"
      ]
     },
     "execution_count": 47,
     "metadata": {},
     "output_type": "execute_result"
    }
   ],
   "source": [
    "bin(36)"
   ]
  },
  {
   "cell_type": "code",
   "execution_count": 48,
   "id": "e3776e1f",
   "metadata": {},
   "outputs": [
    {
     "data": {
      "text/plain": [
       "36"
      ]
     },
     "execution_count": 48,
     "metadata": {},
     "output_type": "execute_result"
    }
   ],
   "source": [
    "int(0b100100)   # starting 0b -> is manditary"
   ]
  },
  {
   "cell_type": "code",
   "execution_count": 50,
   "id": "b1f94224",
   "metadata": {},
   "outputs": [
    {
     "data": {
      "text/plain": [
       "4"
      ]
     },
     "execution_count": 50,
     "metadata": {},
     "output_type": "execute_result"
    }
   ],
   "source": [
    "# | bitwise or\n",
    "\n",
    "- It looks for 1\n",
    "- As soon as it gets 1, it will return 1\n",
    "- If there is no 1 then it will return 0"
   ]
  },
  {
   "cell_type": "code",
   "execution_count": 54,
   "id": "59d1ce49",
   "metadata": {},
   "outputs": [
    {
     "name": "stdout",
     "output_type": "stream",
     "text": [
      "1\n",
      "1\n",
      "0\n"
     ]
    }
   ],
   "source": [
    "print(1 |1)\n",
    "print(1 |0)\n",
    "print(0 |0)"
   ]
  },
  {
   "cell_type": "code",
   "execution_count": 55,
   "id": "7d1e6c4d",
   "metadata": {},
   "outputs": [
    {
     "data": {
      "text/plain": [
       "'0b1001011'"
      ]
     },
     "execution_count": 55,
     "metadata": {},
     "output_type": "execute_result"
    }
   ],
   "source": [
    "bin(75)"
   ]
  },
  {
   "cell_type": "code",
   "execution_count": 56,
   "id": "0efdb144",
   "metadata": {},
   "outputs": [
    {
     "data": {
      "text/plain": [
       "'0b1111101'"
      ]
     },
     "execution_count": 56,
     "metadata": {},
     "output_type": "execute_result"
    }
   ],
   "source": [
    "bin(125)"
   ]
  },
  {
   "cell_type": "code",
   "execution_count": null,
   "id": "663363f9",
   "metadata": {},
   "outputs": [],
   "source": [
    "1001011\n",
    "1111101\n",
    "1111111"
   ]
  },
  {
   "cell_type": "code",
   "execution_count": null,
   "id": "225c45b2",
   "metadata": {},
   "outputs": [],
   "source": [
    "# ~ bitwise not\n",
    "\n",
    "- It looks for 1\n",
    "# ~ num = -(num+1)"
   ]
  },
  {
   "cell_type": "code",
   "execution_count": 57,
   "id": "19960cee",
   "metadata": {},
   "outputs": [
    {
     "data": {
      "text/plain": [
       "44"
      ]
     },
     "execution_count": 57,
     "metadata": {},
     "output_type": "execute_result"
    }
   ],
   "source": [
    "~-(45)   # -(-45+1)"
   ]
  },
  {
   "cell_type": "markdown",
   "id": "27b0d156",
   "metadata": {},
   "source": [
    "###  ^ bitwise xor"
   ]
  },
  {
   "cell_type": "code",
   "execution_count": null,
   "id": "0801b3cf",
   "metadata": {},
   "outputs": [],
   "source": [
    "- Opposite digits give 1\n",
    "- same digits give 0"
   ]
  },
  {
   "cell_type": "code",
   "execution_count": 59,
   "id": "2b6530a6",
   "metadata": {},
   "outputs": [
    {
     "name": "stdout",
     "output_type": "stream",
     "text": [
      "0\n",
      "1\n",
      "1\n"
     ]
    }
   ],
   "source": [
    "print(1 ^ 1)\n",
    "print(1 ^ 0)\n",
    "print(0 ^ 1)"
   ]
  },
  {
   "cell_type": "code",
   "execution_count": 60,
   "id": "4ac45016",
   "metadata": {},
   "outputs": [
    {
     "data": {
      "text/plain": [
       "56"
      ]
     },
     "execution_count": 60,
     "metadata": {},
     "output_type": "execute_result"
    }
   ],
   "source": [
    "28 ^ 36"
   ]
  },
  {
   "cell_type": "code",
   "execution_count": 61,
   "id": "edbc1fdb",
   "metadata": {},
   "outputs": [
    {
     "name": "stdout",
     "output_type": "stream",
     "text": [
      "103\n"
     ]
    }
   ],
   "source": [
    "print(125 ^ 26)"
   ]
  },
  {
   "cell_type": "markdown",
   "id": "e6ff685a",
   "metadata": {},
   "source": [
    "### << bitwise leftshift\n",
    "\n",
    "- number << number of bits"
   ]
  },
  {
   "cell_type": "code",
   "execution_count": 1,
   "id": "29099c13",
   "metadata": {},
   "outputs": [
    {
     "data": {
      "text/plain": [
       "336"
      ]
     },
     "execution_count": 1,
     "metadata": {},
     "output_type": "execute_result"
    }
   ],
   "source": [
    "42 << 3"
   ]
  },
  {
   "cell_type": "code",
   "execution_count": null,
   "id": "b55ee816",
   "metadata": {},
   "outputs": [],
   "source": [
    "# 8 bit system\n",
    "# 32 bit system\n",
    "# 64 bi system"
   ]
  },
  {
   "cell_type": "code",
   "execution_count": null,
   "id": "784a3784",
   "metadata": {},
   "outputs": [],
   "source": [
    "## Step 1 :- convert number into binary\n",
    "## step 2 :- Represent it into 32  or 64 bit representation.\n",
    "## Step 3:- Remove the specified number of bits from left side\n",
    "## step 4:- Add same number of zero to right\n",
    "## step 5:- Convert binary number into int"
   ]
  },
  {
   "cell_type": "code",
   "execution_count": 2,
   "id": "b48a4027",
   "metadata": {},
   "outputs": [
    {
     "data": {
      "text/plain": [
       "'0b101010'"
      ]
     },
     "execution_count": 2,
     "metadata": {},
     "output_type": "execute_result"
    }
   ],
   "source": [
    "bin(42)\n"
   ]
  },
  {
   "cell_type": "code",
   "execution_count": 3,
   "id": "3ba4a1e6",
   "metadata": {},
   "outputs": [
    {
     "data": {
      "text/plain": [
       "8704"
      ]
     },
     "execution_count": 3,
     "metadata": {},
     "output_type": "execute_result"
    }
   ],
   "source": [
    "## example\n",
    "\n",
    "136 <<6"
   ]
  },
  {
   "cell_type": "code",
   "execution_count": 4,
   "id": "af673799",
   "metadata": {},
   "outputs": [
    {
     "data": {
      "text/plain": [
       "'0b10001000'"
      ]
     },
     "execution_count": 4,
     "metadata": {},
     "output_type": "execute_result"
    }
   ],
   "source": [
    "bin(136)"
   ]
  },
  {
   "cell_type": "code",
   "execution_count": 9,
   "id": "1b36899b",
   "metadata": {},
   "outputs": [
    {
     "data": {
      "text/plain": [
       "8704"
      ]
     },
     "execution_count": 9,
     "metadata": {},
     "output_type": "execute_result"
    }
   ],
   "source": [
    "int(0b10001000000000)   ##  add 6 on right as 136 << 6 (so 6 add on right)"
   ]
  },
  {
   "cell_type": "code",
   "execution_count": 12,
   "id": "046cfc1e",
   "metadata": {},
   "outputs": [
    {
     "data": {
      "text/plain": [
       "False"
      ]
     },
     "execution_count": 12,
     "metadata": {},
     "output_type": "execute_result"
    }
   ],
   "source": [
    "136 <<3"
   ]
  },
  {
   "cell_type": "markdown",
   "id": "f11eab0e",
   "metadata": {},
   "source": [
    "### Formula"
   ]
  },
  {
   "cell_type": "code",
   "execution_count": null,
   "id": "0e8327f3",
   "metadata": {},
   "outputs": [],
   "source": [
    "# num*2**number of bits to find the leftshift binary"
   ]
  },
  {
   "cell_type": "code",
   "execution_count": 13,
   "id": "bd374bbb",
   "metadata": {},
   "outputs": [
    {
     "data": {
      "text/plain": [
       "360"
      ]
     },
     "execution_count": 13,
     "metadata": {},
     "output_type": "execute_result"
    }
   ],
   "source": [
    "45 << 3"
   ]
  },
  {
   "cell_type": "code",
   "execution_count": 14,
   "id": "660f6abb",
   "metadata": {},
   "outputs": [
    {
     "data": {
      "text/plain": [
       "360"
      ]
     },
     "execution_count": 14,
     "metadata": {},
     "output_type": "execute_result"
    }
   ],
   "source": [
    "45*2**3"
   ]
  },
  {
   "cell_type": "markdown",
   "id": "2de4533d",
   "metadata": {},
   "source": [
    "### BItwise rightside"
   ]
  },
  {
   "cell_type": "code",
   "execution_count": null,
   "id": "5f0da225",
   "metadata": {},
   "outputs": [],
   "source": [
    "## Step 1 :- convert number into binary\n",
    "## step 2 :- Represent it into 32  or 64 bit representation.\n",
    "## Step 3:- Remove the specified number of bits from left side\n",
    "## step 4:- Add same number of zero to left side\n",
    "## step 5:- Convert binary number into int"
   ]
  },
  {
   "cell_type": "code",
   "execution_count": 15,
   "id": "9039a13c",
   "metadata": {},
   "outputs": [
    {
     "data": {
      "text/plain": [
       "57"
      ]
     },
     "execution_count": 15,
     "metadata": {},
     "output_type": "execute_result"
    }
   ],
   "source": [
    "456 >>3"
   ]
  },
  {
   "cell_type": "code",
   "execution_count": 17,
   "id": "d8bf63f1",
   "metadata": {},
   "outputs": [
    {
     "data": {
      "text/plain": [
       "'0b111001000'"
      ]
     },
     "execution_count": 17,
     "metadata": {},
     "output_type": "execute_result"
    }
   ],
   "source": [
    "bin(456)"
   ]
  },
  {
   "cell_type": "code",
   "execution_count": 21,
   "id": "51dd0eb4",
   "metadata": {},
   "outputs": [
    {
     "data": {
      "text/plain": [
       "57"
      ]
     },
     "execution_count": 21,
     "metadata": {},
     "output_type": "execute_result"
    }
   ],
   "source": [
    "0b000111001"
   ]
  },
  {
   "cell_type": "code",
   "execution_count": 26,
   "id": "c757f332",
   "metadata": {},
   "outputs": [
    {
     "data": {
      "text/plain": [
       "15"
      ]
     },
     "execution_count": 26,
     "metadata": {},
     "output_type": "execute_result"
    }
   ],
   "source": [
    "980 >> 6"
   ]
  },
  {
   "cell_type": "code",
   "execution_count": 27,
   "id": "cacbea04",
   "metadata": {},
   "outputs": [
    {
     "data": {
      "text/plain": [
       "'0b1111010100'"
      ]
     },
     "execution_count": 27,
     "metadata": {},
     "output_type": "execute_result"
    }
   ],
   "source": [
    "bin(980)"
   ]
  },
  {
   "cell_type": "code",
   "execution_count": 29,
   "id": "ac5d717b",
   "metadata": {},
   "outputs": [
    {
     "data": {
      "text/plain": [
       "15"
      ]
     },
     "execution_count": 29,
     "metadata": {},
     "output_type": "execute_result"
    }
   ],
   "source": [
    "0b0000001111   ## Remove vale from right 6 and add on left 6"
   ]
  },
  {
   "cell_type": "code",
   "execution_count": null,
   "id": "fd8fb332",
   "metadata": {},
   "outputs": [],
   "source": [
    "## formula\n",
    "\n",
    "# num//2** number of bits for rightside"
   ]
  },
  {
   "cell_type": "code",
   "execution_count": 30,
   "id": "6f8ab195",
   "metadata": {},
   "outputs": [
    {
     "data": {
      "text/plain": [
       "15"
      ]
     },
     "execution_count": 30,
     "metadata": {},
     "output_type": "execute_result"
    }
   ],
   "source": [
    "980//2**6"
   ]
  },
  {
   "cell_type": "markdown",
   "id": "2e67d308",
   "metadata": {},
   "source": [
    "## Compound Operator"
   ]
  },
  {
   "cell_type": "code",
   "execution_count": null,
   "id": "856f0bce",
   "metadata": {},
   "outputs": [],
   "source": [
    "+=\n",
    "-=\n",
    "*=\n",
    "/=\n",
    "%=\n",
    "**=\n",
    ">>=\n",
    "<<="
   ]
  },
  {
   "cell_type": "code",
   "execution_count": null,
   "id": "226f0b15",
   "metadata": {},
   "outputs": [],
   "source": [
    "# a+=b => a = a+b"
   ]
  },
  {
   "cell_type": "code",
   "execution_count": 31,
   "id": "025a0a72",
   "metadata": {},
   "outputs": [
    {
     "name": "stdout",
     "output_type": "stream",
     "text": [
      "8\n"
     ]
    }
   ],
   "source": [
    "a = 5\n",
    "a = a+3\n",
    "print(a)"
   ]
  },
  {
   "cell_type": "code",
   "execution_count": 32,
   "id": "5e40a3a0",
   "metadata": {},
   "outputs": [
    {
     "name": "stdout",
     "output_type": "stream",
     "text": [
      "11\n"
     ]
    }
   ],
   "source": [
    "a+=3\n",
    "print(a)"
   ]
  },
  {
   "cell_type": "code",
   "execution_count": 33,
   "id": "0e710523",
   "metadata": {},
   "outputs": [
    {
     "name": "stdout",
     "output_type": "stream",
     "text": [
      "8\n"
     ]
    }
   ],
   "source": [
    "#Make the cube of a and store the value in a itself\n",
    "a = 5\n",
    "\n",
    "a+=3\n",
    "print(a)"
   ]
  },
  {
   "cell_type": "code",
   "execution_count": 35,
   "id": "60cf1a07",
   "metadata": {},
   "outputs": [
    {
     "name": "stdout",
     "output_type": "stream",
     "text": [
      "25\n"
     ]
    }
   ],
   "source": [
    "a = 5\n",
    "b = 2\n",
    "a**=b\n",
    "print(a)"
   ]
  },
  {
   "cell_type": "code",
   "execution_count": 41,
   "id": "8b6c6d07",
   "metadata": {},
   "outputs": [
    {
     "ename": "SyntaxError",
     "evalue": "invalid syntax (478830108.py, line 3)",
     "output_type": "error",
     "traceback": [
      "\u001b[1;36m  File \u001b[1;32m\"C:\\Users\\ROHAN SUVARNA\\AppData\\Local\\Temp\\ipykernel_7688\\478830108.py\"\u001b[1;36m, line \u001b[1;32m3\u001b[0m\n\u001b[1;33m    While (x := len(a))>1:\u001b[0m\n\u001b[1;37m                          ^\u001b[0m\n\u001b[1;31mSyntaxError\u001b[0m\u001b[1;31m:\u001b[0m invalid syntax\n"
     ]
    }
   ],
   "source": [
    "a = [1,2,3,4,5,6]\n",
    "\n",
    "While (x := len(a))>1:\n",
    "        a.popitem()\n",
    "        print(a)"
   ]
  },
  {
   "cell_type": "code",
   "execution_count": null,
   "id": "0ff2bb38",
   "metadata": {},
   "outputs": [],
   "source": [
    "## walrus operator\n",
    "\n",
    "we assign value by both \n",
    "\n",
    "variable := + condition --> "
   ]
  },
  {
   "cell_type": "markdown",
   "id": "be128b35",
   "metadata": {},
   "source": [
    "## Ternary Operator"
   ]
  },
  {
   "cell_type": "code",
   "execution_count": null,
   "id": "92b8ed8d",
   "metadata": {},
   "outputs": [],
   "source": [
    "It is said to be ternary as it works upon 3 operands."
   ]
  },
  {
   "cell_type": "code",
   "execution_count": null,
   "id": "c815b5ab",
   "metadata": {},
   "outputs": [],
   "source": [
    "## expression_1 if condition else expression_2"
   ]
  },
  {
   "cell_type": "code",
   "execution_count": null,
   "id": "4aef8fc9",
   "metadata": {},
   "outputs": [],
   "source": [
    "- First of all the condition is checked.\n",
    "- If the condition holds True then expression_1 gets executed.\n",
    "- If the condition holds False then expression_2 gets executed"
   ]
  },
  {
   "cell_type": "code",
   "execution_count": null,
   "id": "6f09caff",
   "metadata": {},
   "outputs": [],
   "source": [
    "#Q1 Take a number and check wheather it ie even or odd using ternary operator"
   ]
  },
  {
   "cell_type": "code",
   "execution_count": 45,
   "id": "bf933477",
   "metadata": {},
   "outputs": [
    {
     "name": "stdout",
     "output_type": "stream",
     "text": [
      "enter the number :-46\n",
      "even\n"
     ]
    }
   ],
   "source": [
    "num = int(input(\"enter the number :-\"))\n",
    "print(\"even\") if num%2==0 else print(\"odd\")"
   ]
  },
  {
   "cell_type": "code",
   "execution_count": null,
   "id": "916e9165",
   "metadata": {},
   "outputs": [],
   "source": [
    "## multiple ternary\n",
    "\n",
    "expression_1 if condition1 else expression_2 if condition2 else exp_3"
   ]
  },
  {
   "cell_type": "code",
   "execution_count": 50,
   "id": "7d045498",
   "metadata": {},
   "outputs": [
    {
     "name": "stdout",
     "output_type": "stream",
     "text": [
      "q ia equal\n"
     ]
    }
   ],
   "source": [
    "a = 5\n",
    "b = 5\n",
    "\n",
    "# first statement is true after thet else is false\n",
    "\n",
    "print(\"a is greater\") if a>b else print(\"less then b\") if a<b else print(\"q ia equal\")"
   ]
  },
  {
   "cell_type": "markdown",
   "id": "c7323027",
   "metadata": {},
   "source": [
    "### Operator Precedence"
   ]
  },
  {
   "cell_type": "code",
   "execution_count": null,
   "id": "0e10f60b",
   "metadata": {},
   "outputs": [],
   "source": [
    "## Arithmetic\n",
    "## Terniary Operator\n",
    "## Comparison\n",
    "## Logical\n"
   ]
  },
  {
   "cell_type": "code",
   "execution_count": null,
   "id": "5394b39a",
   "metadata": {},
   "outputs": [],
   "source": [
    "1) Parentheses ()\n",
    "2) Exponentiation **\n",
    "3) Unary plus +, Unary minus -, Bitwise NOT ~\n",
    "4) Multiplication *, Division /, Floor division //, Modulus %\n",
    "5) Addition +, Subtraction -\n",
    "6) Bitwise left shift <<, Bitwise right shift >>\n",
    "7) Bitwise AND &\n",
    "8) Bitwise XOR ^\n",
    "9) Bitwise OR |\n",
    "10) Comparison operators (<, <=, >, >=, ==, !=)\n",
    "11) Identity operators (is, is not)\n",
    "12) Membership operators (in, not in)\n",
    "13) Logical NOT not\n",
    "14) Logical AND and\n",
    "15) Logical OR or\n",
    "16) Conditional expression if-else"
   ]
  },
  {
   "cell_type": "code",
   "execution_count": 52,
   "id": "703c1e0b",
   "metadata": {},
   "outputs": [
    {
     "data": {
      "text/plain": [
       "12"
      ]
     },
     "execution_count": 52,
     "metadata": {},
     "output_type": "execute_result"
    }
   ],
   "source": [
    "## example\n",
    "\n",
    "45/3 and 7+5"
   ]
  },
  {
   "cell_type": "code",
   "execution_count": 56,
   "id": "89148b24",
   "metadata": {},
   "outputs": [
    {
     "data": {
      "text/plain": [
       "450"
      ]
     },
     "execution_count": 56,
     "metadata": {},
     "output_type": "execute_result"
    }
   ],
   "source": [
    "5**2*(3+6)<<4*2-7"
   ]
  },
  {
   "cell_type": "code",
   "execution_count": 57,
   "id": "62c4f0e5",
   "metadata": {},
   "outputs": [
    {
     "data": {
      "text/plain": [
       "450"
      ]
     },
     "execution_count": 57,
     "metadata": {},
     "output_type": "execute_result"
    }
   ],
   "source": [
    "## elaborate above question\n",
    "25*(9)<<8-7\n",
    "25*9\n",
    "225<<1\n",
    "bin(225)\n",
    "0b111000010"
   ]
  },
  {
   "cell_type": "code",
   "execution_count": 64,
   "id": "9cd3d31a",
   "metadata": {},
   "outputs": [
    {
     "data": {
      "text/plain": [
       "2"
      ]
     },
     "execution_count": 64,
     "metadata": {},
     "output_type": "execute_result"
    }
   ],
   "source": [
    "(6-4) or (3+2)*9**3//4 <<2>20"
   ]
  },
  {
   "cell_type": "code",
   "execution_count": 68,
   "id": "b2655412",
   "metadata": {},
   "outputs": [
    {
     "data": {
      "text/plain": [
       "2"
      ]
     },
     "execution_count": 68,
     "metadata": {},
     "output_type": "execute_result"
    }
   ],
   "source": [
    "2 or 5*9**3//4<<2>20\n",
    "2 or 5*729//4<<2>20\n",
    "2 or 3645//4<<2> 20\n",
    "2 or 911.25<<2>20\n",
    "2 or 3644 >20\n",
    "2 or True"
   ]
  },
  {
   "cell_type": "code",
   "execution_count": 65,
   "id": "e146e2c8",
   "metadata": {},
   "outputs": [
    {
     "data": {
      "text/plain": [
       "'0b1110001111'"
      ]
     },
     "execution_count": 65,
     "metadata": {},
     "output_type": "execute_result"
    }
   ],
   "source": [
    "bin(911)"
   ]
  },
  {
   "cell_type": "code",
   "execution_count": 66,
   "id": "a0ea9715",
   "metadata": {},
   "outputs": [
    {
     "data": {
      "text/plain": [
       "3644"
      ]
     },
     "execution_count": 66,
     "metadata": {},
     "output_type": "execute_result"
    }
   ],
   "source": [
    "0b111000111100"
   ]
  },
  {
   "cell_type": "markdown",
   "id": "52518e3e",
   "metadata": {},
   "source": [
    "## Contents"
   ]
  },
  {
   "cell_type": "code",
   "execution_count": null,
   "id": "86911c62",
   "metadata": {},
   "outputs": [],
   "source": [
    "## Study stucture\n",
    "# String\n",
    "# Memory management\n",
    "# Conditional statement\n",
    "# loops\n",
    "# List\n",
    "# Tuple\n",
    "# Dictionary\n",
    "# Set\n",
    "# Frozenset\n",
    "# Functions\n",
    "# Modules\n",
    "# File Handling\n",
    "# Expection handling\n",
    "# Regrex\n",
    "# Libraries ( Numpy, Pandas, etc)\n",
    "# OOPS ( Clas, object, heritance)\n",
    "# Case Studies"
   ]
  },
  {
   "cell_type": "markdown",
   "id": "462d3605",
   "metadata": {},
   "source": [
    "### bitwise Operator"
   ]
  },
  {
   "cell_type": "code",
   "execution_count": 1,
   "id": "c5a364f3",
   "metadata": {},
   "outputs": [
    {
     "data": {
      "text/plain": [
       "'0b1000001'"
      ]
     },
     "execution_count": 1,
     "metadata": {},
     "output_type": "execute_result"
    }
   ],
   "source": [
    "bin(65)"
   ]
  },
  {
   "cell_type": "code",
   "execution_count": null,
   "id": "664454da",
   "metadata": {},
   "outputs": [],
   "source": [
    "## how to find the binary element\n",
    "1) first need to divide the element by 2\n",
    "\n",
    "65/2  -> 1 (reminder)\n",
    "32/2  -> 0 (no remainder)\n",
    "16/2  -> 0 (no remainder)\n",
    "8/2   -> 0 (no remainder)\n",
    "4/2   -> 0 (no remainder)\n",
    "2/2   -> 0 (no remainder)\n",
    "1     -> 1 (remainder)\n",
    "\n",
    "0b1000001"
   ]
  },
  {
   "cell_type": "code",
   "execution_count": null,
   "id": "ba6f14a8",
   "metadata": {},
   "outputs": [],
   "source": [
    "For '1': (0 * 2) + 1 = 1\n",
    "For '0': (1 * 2) + 0 = 2\n",
    "For '0': (2 * 2) + 0 = 4\n",
    "For '0': (4 * 2) + 0 = 8\n",
    "For '0': (8 * 2) + 0 = 16\n",
    "For '0': (16 * 2) + 0 = 32\n",
    "For '1': (32 * 2) + 1 = 65"
   ]
  }
 ],
 "metadata": {
  "kernelspec": {
   "display_name": "Python 3 (ipykernel)",
   "language": "python",
   "name": "python3"
  },
  "language_info": {
   "codemirror_mode": {
    "name": "ipython",
    "version": 3
   },
   "file_extension": ".py",
   "mimetype": "text/x-python",
   "name": "python",
   "nbconvert_exporter": "python",
   "pygments_lexer": "ipython3",
   "version": "3.9.13"
  }
 },
 "nbformat": 4,
 "nbformat_minor": 5
}
